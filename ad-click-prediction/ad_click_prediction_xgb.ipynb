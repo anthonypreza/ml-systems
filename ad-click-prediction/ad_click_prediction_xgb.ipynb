{
 "cells": [
  {
   "cell_type": "code",
   "execution_count": 1,
   "id": "aa1f0a43",
   "metadata": {},
   "outputs": [],
   "source": [
    "import pandas as pd\n",
    "import numpy as np\n"
   ]
  },
  {
   "cell_type": "code",
   "execution_count": 2,
   "id": "338b3ece",
   "metadata": {},
   "outputs": [],
   "source": [
    "df = pd.read_csv(\"./data/ad_click_dataset.csv\")"
   ]
  },
  {
   "cell_type": "code",
   "execution_count": 3,
   "id": "ba1a37fe",
   "metadata": {},
   "outputs": [
    {
     "data": {
      "text/html": [
       "<div>\n",
       "<style scoped>\n",
       "    .dataframe tbody tr th:only-of-type {\n",
       "        vertical-align: middle;\n",
       "    }\n",
       "\n",
       "    .dataframe tbody tr th {\n",
       "        vertical-align: top;\n",
       "    }\n",
       "\n",
       "    .dataframe thead th {\n",
       "        text-align: right;\n",
       "    }\n",
       "</style>\n",
       "<table border=\"1\" class=\"dataframe\">\n",
       "  <thead>\n",
       "    <tr style=\"text-align: right;\">\n",
       "      <th></th>\n",
       "      <th>id</th>\n",
       "      <th>full_name</th>\n",
       "      <th>age</th>\n",
       "      <th>gender</th>\n",
       "      <th>device_type</th>\n",
       "      <th>ad_position</th>\n",
       "      <th>browsing_history</th>\n",
       "      <th>time_of_day</th>\n",
       "      <th>click</th>\n",
       "    </tr>\n",
       "  </thead>\n",
       "  <tbody>\n",
       "    <tr>\n",
       "      <th>0</th>\n",
       "      <td>670</td>\n",
       "      <td>User670</td>\n",
       "      <td>22.0</td>\n",
       "      <td>NaN</td>\n",
       "      <td>Desktop</td>\n",
       "      <td>Top</td>\n",
       "      <td>Shopping</td>\n",
       "      <td>Afternoon</td>\n",
       "      <td>1</td>\n",
       "    </tr>\n",
       "    <tr>\n",
       "      <th>1</th>\n",
       "      <td>3044</td>\n",
       "      <td>User3044</td>\n",
       "      <td>NaN</td>\n",
       "      <td>Male</td>\n",
       "      <td>Desktop</td>\n",
       "      <td>Top</td>\n",
       "      <td>NaN</td>\n",
       "      <td>NaN</td>\n",
       "      <td>1</td>\n",
       "    </tr>\n",
       "    <tr>\n",
       "      <th>2</th>\n",
       "      <td>5912</td>\n",
       "      <td>User5912</td>\n",
       "      <td>41.0</td>\n",
       "      <td>Non-Binary</td>\n",
       "      <td>NaN</td>\n",
       "      <td>Side</td>\n",
       "      <td>Education</td>\n",
       "      <td>Night</td>\n",
       "      <td>1</td>\n",
       "    </tr>\n",
       "    <tr>\n",
       "      <th>3</th>\n",
       "      <td>5418</td>\n",
       "      <td>User5418</td>\n",
       "      <td>34.0</td>\n",
       "      <td>Male</td>\n",
       "      <td>NaN</td>\n",
       "      <td>NaN</td>\n",
       "      <td>Entertainment</td>\n",
       "      <td>Evening</td>\n",
       "      <td>1</td>\n",
       "    </tr>\n",
       "    <tr>\n",
       "      <th>4</th>\n",
       "      <td>9452</td>\n",
       "      <td>User9452</td>\n",
       "      <td>39.0</td>\n",
       "      <td>Non-Binary</td>\n",
       "      <td>NaN</td>\n",
       "      <td>NaN</td>\n",
       "      <td>Social Media</td>\n",
       "      <td>Morning</td>\n",
       "      <td>0</td>\n",
       "    </tr>\n",
       "  </tbody>\n",
       "</table>\n",
       "</div>"
      ],
      "text/plain": [
       "     id full_name   age      gender device_type ad_position browsing_history  \\\n",
       "0   670   User670  22.0         NaN     Desktop         Top         Shopping   \n",
       "1  3044  User3044   NaN        Male     Desktop         Top              NaN   \n",
       "2  5912  User5912  41.0  Non-Binary         NaN        Side        Education   \n",
       "3  5418  User5418  34.0        Male         NaN         NaN    Entertainment   \n",
       "4  9452  User9452  39.0  Non-Binary         NaN         NaN     Social Media   \n",
       "\n",
       "  time_of_day  click  \n",
       "0   Afternoon      1  \n",
       "1         NaN      1  \n",
       "2       Night      1  \n",
       "3     Evening      1  \n",
       "4     Morning      0  "
      ]
     },
     "execution_count": 3,
     "metadata": {},
     "output_type": "execute_result"
    }
   ],
   "source": [
    "df.head()"
   ]
  },
  {
   "cell_type": "code",
   "execution_count": 4,
   "id": "ea42cb38",
   "metadata": {},
   "outputs": [],
   "source": [
    "# Features\n",
    "# Sparse\n",
    "# age - bucketize + one-hot\n",
    "# gender - one-hot\n",
    "# device_type - one-hot\n",
    "# ad_position - one-hot\n",
    "# time_of_day - one-hot\n",
    "\n",
    "# Dense continuous\n",
    "# browsing_history - tokenization + pre-trained text model - embedding\n",
    "# user's ad click rate - numerical\n",
    "# user's total ad views - numerical\n",
    "# user's clicked ad IDs - ad related feature computation + average\n",
    "\n",
    "# Target\n",
    "# click - binary cross entropy loss"
   ]
  },
  {
   "cell_type": "code",
   "execution_count": 5,
   "id": "d44f3db3",
   "metadata": {},
   "outputs": [],
   "source": [
    "df = df.drop(columns=[\"id\", \"full_name\"])\n",
    "\n",
    "df[\"age\"] = df[\"age\"].fillna(df[\"age\"].median())\n",
    "df[\"gender\"] = df[\"gender\"].fillna(\"Unknown\")\n",
    "df[\"device_type\"] = df[\"device_type\"].fillna(\"Unknown\")\n",
    "df[\"ad_position\"] = df[\"ad_position\"].fillna(\"Unknown\")\n",
    "df[\"browsing_history\"] = df[\"browsing_history\"].fillna(\"Unknown\")\n",
    "df[\"time_of_day\"] = df[\"time_of_day\"].fillna(\"Unknown\")"
   ]
  },
  {
   "cell_type": "code",
   "execution_count": 6,
   "id": "b78ab74a",
   "metadata": {},
   "outputs": [
    {
     "data": {
      "text/html": [
       "<div>\n",
       "<style scoped>\n",
       "    .dataframe tbody tr th:only-of-type {\n",
       "        vertical-align: middle;\n",
       "    }\n",
       "\n",
       "    .dataframe tbody tr th {\n",
       "        vertical-align: top;\n",
       "    }\n",
       "\n",
       "    .dataframe thead th {\n",
       "        text-align: right;\n",
       "    }\n",
       "</style>\n",
       "<table border=\"1\" class=\"dataframe\">\n",
       "  <thead>\n",
       "    <tr style=\"text-align: right;\">\n",
       "      <th></th>\n",
       "      <th>age</th>\n",
       "      <th>gender</th>\n",
       "      <th>device_type</th>\n",
       "      <th>ad_position</th>\n",
       "      <th>browsing_history</th>\n",
       "      <th>time_of_day</th>\n",
       "      <th>click</th>\n",
       "    </tr>\n",
       "  </thead>\n",
       "  <tbody>\n",
       "    <tr>\n",
       "      <th>0</th>\n",
       "      <td>22.0</td>\n",
       "      <td>Unknown</td>\n",
       "      <td>Desktop</td>\n",
       "      <td>Top</td>\n",
       "      <td>Shopping</td>\n",
       "      <td>Afternoon</td>\n",
       "      <td>1</td>\n",
       "    </tr>\n",
       "    <tr>\n",
       "      <th>1</th>\n",
       "      <td>39.5</td>\n",
       "      <td>Male</td>\n",
       "      <td>Desktop</td>\n",
       "      <td>Top</td>\n",
       "      <td>Unknown</td>\n",
       "      <td>Unknown</td>\n",
       "      <td>1</td>\n",
       "    </tr>\n",
       "    <tr>\n",
       "      <th>2</th>\n",
       "      <td>41.0</td>\n",
       "      <td>Non-Binary</td>\n",
       "      <td>Unknown</td>\n",
       "      <td>Side</td>\n",
       "      <td>Education</td>\n",
       "      <td>Night</td>\n",
       "      <td>1</td>\n",
       "    </tr>\n",
       "    <tr>\n",
       "      <th>3</th>\n",
       "      <td>34.0</td>\n",
       "      <td>Male</td>\n",
       "      <td>Unknown</td>\n",
       "      <td>Unknown</td>\n",
       "      <td>Entertainment</td>\n",
       "      <td>Evening</td>\n",
       "      <td>1</td>\n",
       "    </tr>\n",
       "    <tr>\n",
       "      <th>4</th>\n",
       "      <td>39.0</td>\n",
       "      <td>Non-Binary</td>\n",
       "      <td>Unknown</td>\n",
       "      <td>Unknown</td>\n",
       "      <td>Social Media</td>\n",
       "      <td>Morning</td>\n",
       "      <td>0</td>\n",
       "    </tr>\n",
       "  </tbody>\n",
       "</table>\n",
       "</div>"
      ],
      "text/plain": [
       "    age      gender device_type ad_position browsing_history time_of_day  \\\n",
       "0  22.0     Unknown     Desktop         Top         Shopping   Afternoon   \n",
       "1  39.5        Male     Desktop         Top          Unknown     Unknown   \n",
       "2  41.0  Non-Binary     Unknown        Side        Education       Night   \n",
       "3  34.0        Male     Unknown     Unknown    Entertainment     Evening   \n",
       "4  39.0  Non-Binary     Unknown     Unknown     Social Media     Morning   \n",
       "\n",
       "   click  \n",
       "0      1  \n",
       "1      1  \n",
       "2      1  \n",
       "3      1  \n",
       "4      0  "
      ]
     },
     "execution_count": 6,
     "metadata": {},
     "output_type": "execute_result"
    }
   ],
   "source": [
    "df.head()"
   ]
  },
  {
   "cell_type": "code",
   "execution_count": 7,
   "id": "3cf19021",
   "metadata": {},
   "outputs": [],
   "source": [
    "from sklearn.preprocessing import OneHotEncoder\n",
    "from sklearn.compose import ColumnTransformer\n",
    "\n",
    "X = df.drop(columns=[\"click\"])\n",
    "y = df[\"click\"]\n",
    "\n",
    "# 3. Identify categorical / numeric\n",
    "categorical_cols = [\n",
    "    \"gender\",\n",
    "    \"device_type\",\n",
    "    \"ad_position\",\n",
    "    \"browsing_history\",\n",
    "    \"time_of_day\",\n",
    "]\n",
    "numeric_cols = [c for c in X.columns if c not in categorical_cols]\n",
    "\n",
    "# 4. Preprocessor: OneHot for cats, passthrough nums\n",
    "preprocessor = ColumnTransformer(\n",
    "    transformers=[\n",
    "        (\n",
    "            \"cat\",\n",
    "            OneHotEncoder(handle_unknown=\"ignore\", sparse_output=False),\n",
    "            categorical_cols,\n",
    "        ),\n",
    "        (\"num\", \"passthrough\", numeric_cols),\n",
    "    ]\n",
    ")"
   ]
  },
  {
   "cell_type": "code",
   "execution_count": 8,
   "id": "a06ec57a",
   "metadata": {},
   "outputs": [],
   "source": [
    "from sklearn.model_selection import train_test_split\n",
    "\n",
    "X_train_raw, X_temp, y_train, y_temp = train_test_split(\n",
    "    X, y, test_size=0.3, stratify=y, random_state=42\n",
    ")\n",
    "X_val_raw, X_test_raw, y_val, y_test = train_test_split(\n",
    "    X_temp, y_temp, test_size=0.5, stratify=y_temp, random_state=42\n",
    ")"
   ]
  },
  {
   "cell_type": "code",
   "execution_count": 9,
   "id": "5423b61c",
   "metadata": {},
   "outputs": [],
   "source": [
    "X_train = preprocessor.fit_transform(X_train_raw)\n",
    "X_val = preprocessor.transform(X_val_raw)\n",
    "X_test = preprocessor.transform(X_test_raw)"
   ]
  },
  {
   "cell_type": "code",
   "execution_count": 10,
   "id": "b8adf5f9",
   "metadata": {},
   "outputs": [],
   "source": [
    "param_grid = {\n",
    "    \"max_depth\": [3, 5, 7],\n",
    "    \"learning_rate\": [0.01, 0.05, 0.1],\n",
    "    \"n_estimators\": [200, 500],\n",
    "    \"subsample\": [0.8, 1.0],\n",
    "    \"colsample_bytree\": [0.8, 1.0],\n",
    "}"
   ]
  },
  {
   "cell_type": "code",
   "execution_count": 11,
   "id": "d88b8a1e",
   "metadata": {},
   "outputs": [],
   "source": [
    "from sklearn.metrics import (\n",
    "    make_scorer,\n",
    "    accuracy_score,\n",
    "    precision_score,\n",
    "    recall_score,\n",
    "    average_precision_score\n",
    ")\n",
    "\n",
    "pr_auc_scorer = make_scorer(average_precision_score, greater_is_better=True)\n",
    "\n",
    "scoring = {\n",
    "    \"accuracy\": make_scorer(accuracy_score),\n",
    "    \"precision\": make_scorer(precision_score),\n",
    "    \"recall\": make_scorer(recall_score),\n",
    "    \"roc_auc\": \"roc_auc\",\n",
    "    \"pr_auc\": pr_auc_scorer,\n",
    "}"
   ]
  },
  {
   "cell_type": "code",
   "execution_count": 12,
   "id": "ecb0e2d2",
   "metadata": {},
   "outputs": [],
   "source": [
    "from xgboost import XGBClassifier\n",
    "\n",
    "clf = XGBClassifier(eval_metric=\"logloss\", random_state=42)"
   ]
  },
  {
   "cell_type": "code",
   "execution_count": 13,
   "id": "6dc6ab74",
   "metadata": {},
   "outputs": [],
   "source": [
    "from sklearn.model_selection import GridSearchCV\n",
    "\n",
    "grid_search = GridSearchCV(\n",
    "    estimator=clf,\n",
    "    param_grid=param_grid,\n",
    "    scoring=scoring,\n",
    "    cv=3,\n",
    "    refit=\"pr_auc\",\n",
    "    verbose=2,\n",
    "    n_jobs=-1,\n",
    "    return_train_score=True,\n",
    ")"
   ]
  },
  {
   "cell_type": "code",
   "execution_count": 14,
   "id": "df2d72e3",
   "metadata": {},
   "outputs": [
    {
     "name": "stdout",
     "output_type": "stream",
     "text": [
      "Fitting 3 folds for each of 72 candidates, totalling 216 fits\n",
      "[CV] END colsample_bytree=0.8, learning_rate=0.01, max_depth=3, n_estimators=200, subsample=1.0; total time=   0.1s\n",
      "[CV] END colsample_bytree=0.8, learning_rate=0.01, max_depth=3, n_estimators=200, subsample=0.8; total time=   0.1s\n",
      "[CV] END colsample_bytree=0.8, learning_rate=0.01, max_depth=3, n_estimators=200, subsample=0.8; total time=   0.1s\n",
      "[CV] END colsample_bytree=0.8, learning_rate=0.01, max_depth=3, n_estimators=200, subsample=1.0; total time=   0.1s\n",
      "[CV] END colsample_bytree=0.8, learning_rate=0.01, max_depth=5, n_estimators=200, subsample=1.0; total time=   0.1s\n",
      "[CV] END colsample_bytree=0.8, learning_rate=0.01, max_depth=3, n_estimators=200, subsample=0.8; total time=   0.1s\n",
      "[CV] END colsample_bytree=0.8, learning_rate=0.01, max_depth=3, n_estimators=500, subsample=0.8; total time=   0.2s\n",
      "[CV] END colsample_bytree=0.8, learning_rate=0.01, max_depth=5, n_estimators=200, subsample=0.8; total time=   0.1s\n",
      "[CV] END colsample_bytree=0.8, learning_rate=0.01, max_depth=3, n_estimators=500, subsample=1.0; total time=   0.2s\n",
      "[CV] END colsample_bytree=0.8, learning_rate=0.01, max_depth=3, n_estimators=500, subsample=0.8; total time=   0.2s\n",
      "[CV] END colsample_bytree=0.8, learning_rate=0.01, max_depth=3, n_estimators=500, subsample=1.0; total time=   0.2s\n",
      "[CV] END colsample_bytree=0.8, learning_rate=0.01, max_depth=5, n_estimators=200, subsample=1.0; total time=   0.1s\n",
      "[CV] END colsample_bytree=0.8, learning_rate=0.01, max_depth=5, n_estimators=200, subsample=0.8; total time=   0.2s\n",
      "[CV] END colsample_bytree=0.8, learning_rate=0.01, max_depth=7, n_estimators=200, subsample=0.8; total time=   0.2s\n",
      "[CV] END colsample_bytree=0.8, learning_rate=0.01, max_depth=3, n_estimators=500, subsample=1.0; total time=   0.2s\n",
      "[CV] END colsample_bytree=0.8, learning_rate=0.05, max_depth=3, n_estimators=200, subsample=0.8; total time=   0.1s\n",
      "[CV] END colsample_bytree=0.8, learning_rate=0.05, max_depth=3, n_estimators=200, subsample=0.8; total time=   0.1s\n",
      "[CV] END colsample_bytree=0.8, learning_rate=0.01, max_depth=3, n_estimators=500, subsample=0.8; total time=   0.2s\n",
      "[CV] END colsample_bytree=0.8, learning_rate=0.01, max_depth=7, n_estimators=200, subsample=1.0; total time=   0.2s\n",
      "[CV] END colsample_bytree=0.8, learning_rate=0.05, max_depth=3, n_estimators=200, subsample=1.0; total time=   0.1s\n",
      "[CV] END colsample_bytree=0.8, learning_rate=0.05, max_depth=3, n_estimators=200, subsample=1.0; total time=   0.1s[CV] END colsample_bytree=0.8, learning_rate=0.01, max_depth=5, n_estimators=500, subsample=0.8; total time=   0.3s\n",
      "\n",
      "[CV] END colsample_bytree=0.8, learning_rate=0.01, max_depth=5, n_estimators=500, subsample=1.0; total time=   0.3s\n",
      "[CV] END colsample_bytree=0.8, learning_rate=0.05, max_depth=3, n_estimators=200, subsample=1.0; total time=   0.1s\n",
      "[CV] END colsample_bytree=0.8, learning_rate=0.01, max_depth=3, n_estimators=200, subsample=1.0; total time=   0.1s\n",
      "[CV] END colsample_bytree=0.8, learning_rate=0.01, max_depth=5, n_estimators=200, subsample=0.8; total time=   0.2s\n",
      "[CV] END colsample_bytree=0.8, learning_rate=0.05, max_depth=3, n_estimators=200, subsample=0.8; total time=   0.1s\n",
      "[CV] END colsample_bytree=0.8, learning_rate=0.01, max_depth=7, n_estimators=200, subsample=1.0; total time=   0.2s\n",
      "[CV] END colsample_bytree=0.8, learning_rate=0.01, max_depth=7, n_estimators=200, subsample=0.8; total time=   0.2s\n",
      "[CV] END colsample_bytree=0.8, learning_rate=0.01, max_depth=5, n_estimators=200, subsample=1.0; total time=   0.1s\n",
      "[CV] END colsample_bytree=0.8, learning_rate=0.01, max_depth=7, n_estimators=200, subsample=1.0; total time=   0.2s\n",
      "[CV] END colsample_bytree=0.8, learning_rate=0.01, max_depth=5, n_estimators=500, subsample=0.8; total time=   0.3s\n",
      "[CV] END colsample_bytree=0.8, learning_rate=0.01, max_depth=7, n_estimators=200, subsample=0.8; total time=   0.2s\n",
      "[CV] END colsample_bytree=0.8, learning_rate=0.05, max_depth=5, n_estimators=200, subsample=0.8; total time=   0.1s\n",
      "[CV] END colsample_bytree=0.8, learning_rate=0.05, max_depth=5, n_estimators=200, subsample=0.8; total time=   0.1s\n",
      "[CV] END colsample_bytree=0.8, learning_rate=0.05, max_depth=5, n_estimators=200, subsample=1.0; total time=   0.1s\n",
      "[CV] END colsample_bytree=0.8, learning_rate=0.05, max_depth=5, n_estimators=200, subsample=0.8; total time=   0.1s[CV] END colsample_bytree=0.8, learning_rate=0.05, max_depth=3, n_estimators=500, subsample=0.8; total time=   0.2s\n",
      "\n",
      "[CV] END colsample_bytree=0.8, learning_rate=0.05, max_depth=3, n_estimators=500, subsample=1.0; total time=   0.2s\n",
      "[CV] END colsample_bytree=0.8, learning_rate=0.05, max_depth=3, n_estimators=500, subsample=1.0; total time=   0.2s\n",
      "[CV] END colsample_bytree=0.8, learning_rate=0.05, max_depth=3, n_estimators=500, subsample=0.8; total time=   0.2s\n",
      "[CV] END colsample_bytree=0.8, learning_rate=0.05, max_depth=3, n_estimators=500, subsample=1.0; total time=   0.2s\n",
      "[CV] END colsample_bytree=0.8, learning_rate=0.05, max_depth=5, n_estimators=200, subsample=1.0; total time=   0.2s\n",
      "[CV] END colsample_bytree=0.8, learning_rate=0.05, max_depth=5, n_estimators=200, subsample=1.0; total time=   0.2s\n",
      "[CV] END colsample_bytree=0.8, learning_rate=0.05, max_depth=3, n_estimators=500, subsample=0.8; total time=   0.3s\n",
      "[CV] END colsample_bytree=0.8, learning_rate=0.01, max_depth=7, n_estimators=500, subsample=1.0; total time=   0.4s\n",
      "[CV] END colsample_bytree=0.8, learning_rate=0.01, max_depth=7, n_estimators=500, subsample=0.8; total time=   0.4s\n",
      "[CV] END colsample_bytree=0.8, learning_rate=0.1, max_depth=3, n_estimators=200, subsample=0.8; total time=   0.1s\n",
      "[CV] END colsample_bytree=0.8, learning_rate=0.1, max_depth=3, n_estimators=200, subsample=0.8; total time=   0.1s\n",
      "[CV] END colsample_bytree=0.8, learning_rate=0.01, max_depth=5, n_estimators=500, subsample=1.0; total time=   0.3s\n",
      "[CV] END colsample_bytree=0.8, learning_rate=0.01, max_depth=7, n_estimators=500, subsample=0.8; total time=   0.4s\n",
      "[CV] END colsample_bytree=0.8, learning_rate=0.01, max_depth=7, n_estimators=500, subsample=1.0; total time=   0.4s\n",
      "[CV] END colsample_bytree=0.8, learning_rate=0.01, max_depth=7, n_estimators=500, subsample=1.0; total time=   0.4s\n",
      "[CV] END colsample_bytree=0.8, learning_rate=0.05, max_depth=7, n_estimators=200, subsample=1.0; total time=   0.2s\n",
      "[CV] END colsample_bytree=0.8, learning_rate=0.05, max_depth=7, n_estimators=200, subsample=1.0; total time=   0.2s\n",
      "[CV] END colsample_bytree=0.8, learning_rate=0.05, max_depth=7, n_estimators=200, subsample=0.8; total time=   0.2s\n",
      "[CV] END colsample_bytree=0.8, learning_rate=0.05, max_depth=7, n_estimators=200, subsample=0.8; total time=   0.2s\n",
      "[CV] END colsample_bytree=0.8, learning_rate=0.1, max_depth=3, n_estimators=200, subsample=1.0; total time=   0.1s\n",
      "[CV] END colsample_bytree=0.8, learning_rate=0.01, max_depth=5, n_estimators=500, subsample=1.0; total time=   0.3s\n",
      "[CV] END colsample_bytree=0.8, learning_rate=0.1, max_depth=3, n_estimators=200, subsample=0.8; total time=   0.1s\n",
      "[CV] END colsample_bytree=0.8, learning_rate=0.05, max_depth=7, n_estimators=200, subsample=0.8; total time=   0.2s\n",
      "[CV] END colsample_bytree=0.8, learning_rate=0.1, max_depth=3, n_estimators=200, subsample=1.0; total time=   0.1s\n",
      "[CV] END colsample_bytree=0.8, learning_rate=0.01, max_depth=7, n_estimators=500, subsample=0.8; total time=   0.4s\n",
      "[CV] END colsample_bytree=0.8, learning_rate=0.1, max_depth=3, n_estimators=200, subsample=1.0; total time=   0.1s\n",
      "[CV] END colsample_bytree=0.8, learning_rate=0.05, max_depth=5, n_estimators=500, subsample=0.8; total time=   0.3s\n",
      "[CV] END colsample_bytree=0.8, learning_rate=0.05, max_depth=7, n_estimators=200, subsample=1.0; total time=   0.2s\n",
      "[CV] END colsample_bytree=0.8, learning_rate=0.05, max_depth=5, n_estimators=500, subsample=0.8; total time=   0.3s\n",
      "[CV] END colsample_bytree=0.8, learning_rate=0.05, max_depth=5, n_estimators=500, subsample=1.0; total time=   0.2s\n",
      "[CV] END colsample_bytree=0.8, learning_rate=0.01, max_depth=5, n_estimators=500, subsample=0.8; total time=   0.4s\n",
      "[CV] END colsample_bytree=0.8, learning_rate=0.05, max_depth=5, n_estimators=500, subsample=0.8; total time=   0.3s\n",
      "[CV] END colsample_bytree=0.8, learning_rate=0.05, max_depth=5, n_estimators=500, subsample=1.0; total time=   0.2s\n",
      "[CV] END colsample_bytree=0.8, learning_rate=0.05, max_depth=5, n_estimators=500, subsample=1.0; total time=   0.3s\n",
      "[CV] END colsample_bytree=0.8, learning_rate=0.1, max_depth=3, n_estimators=500, subsample=0.8; total time=   0.2s[CV] END colsample_bytree=0.8, learning_rate=0.1, max_depth=3, n_estimators=500, subsample=0.8; total time=   0.2s\n",
      "\n",
      "[CV] END colsample_bytree=0.8, learning_rate=0.1, max_depth=5, n_estimators=200, subsample=0.8; total time=   0.1s\n",
      "[CV] END colsample_bytree=0.8, learning_rate=0.1, max_depth=5, n_estimators=200, subsample=1.0; total time=   0.1s\n",
      "[CV] END colsample_bytree=0.8, learning_rate=0.1, max_depth=5, n_estimators=200, subsample=1.0; total time=   0.1s\n",
      "[CV] END colsample_bytree=0.8, learning_rate=0.1, max_depth=5, n_estimators=200, subsample=0.8; total time=   0.1s\n",
      "[CV] END colsample_bytree=0.8, learning_rate=0.1, max_depth=3, n_estimators=500, subsample=1.0; total time=   0.2s\n",
      "[CV] END colsample_bytree=0.8, learning_rate=0.1, max_depth=5, n_estimators=200, subsample=0.8; total time=   0.1s\n",
      "[CV] END colsample_bytree=0.8, learning_rate=0.1, max_depth=3, n_estimators=500, subsample=0.8; total time=   0.2s\n",
      "[CV] END colsample_bytree=0.8, learning_rate=0.1, max_depth=3, n_estimators=500, subsample=1.0; total time=   0.2s\n",
      "[CV] END colsample_bytree=0.8, learning_rate=0.1, max_depth=3, n_estimators=500, subsample=1.0; total time=   0.2s\n",
      "[CV] END colsample_bytree=0.8, learning_rate=0.1, max_depth=5, n_estimators=200, subsample=1.0; total time=   0.1s\n",
      "[CV] END colsample_bytree=0.8, learning_rate=0.1, max_depth=7, n_estimators=200, subsample=1.0; total time=   0.1s\n",
      "[CV] END colsample_bytree=1.0, learning_rate=0.01, max_depth=3, n_estimators=200, subsample=1.0; total time=   0.1s\n",
      "[CV] END colsample_bytree=1.0, learning_rate=0.01, max_depth=3, n_estimators=200, subsample=1.0; total time=   0.1s\n",
      "[CV] END colsample_bytree=1.0, learning_rate=0.01, max_depth=3, n_estimators=200, subsample=0.8; total time=   0.1s\n",
      "[CV] END colsample_bytree=1.0, learning_rate=0.01, max_depth=3, n_estimators=200, subsample=1.0; total time=   0.1s\n",
      "[CV] END colsample_bytree=0.8, learning_rate=0.1, max_depth=7, n_estimators=200, subsample=0.8; total time=   0.2s\n",
      "[CV] END colsample_bytree=0.8, learning_rate=0.1, max_depth=7, n_estimators=200, subsample=1.0; total time=   0.1s\n",
      "[CV] END colsample_bytree=1.0, learning_rate=0.01, max_depth=3, n_estimators=200, subsample=0.8; total time=   0.1s\n",
      "[CV] END colsample_bytree=0.8, learning_rate=0.1, max_depth=7, n_estimators=200, subsample=0.8; total time=   0.2s\n",
      "[CV] END colsample_bytree=0.8, learning_rate=0.05, max_depth=7, n_estimators=500, subsample=1.0; total time=   0.4s\n",
      "[CV] END colsample_bytree=0.8, learning_rate=0.05, max_depth=7, n_estimators=500, subsample=1.0; total time=   0.4s\n",
      "[CV] END colsample_bytree=0.8, learning_rate=0.1, max_depth=7, n_estimators=200, subsample=1.0; total time=   0.2s\n",
      "[CV] END colsample_bytree=1.0, learning_rate=0.01, max_depth=3, n_estimators=200, subsample=0.8; total time=   0.1s\n",
      "[CV] END colsample_bytree=0.8, learning_rate=0.05, max_depth=7, n_estimators=500, subsample=0.8; total time=   0.4s\n",
      "[CV] END colsample_bytree=0.8, learning_rate=0.05, max_depth=7, n_estimators=500, subsample=0.8; total time=   0.4s\n",
      "[CV] END colsample_bytree=0.8, learning_rate=0.1, max_depth=5, n_estimators=500, subsample=0.8; total time=   0.3s\n",
      "[CV] END colsample_bytree=0.8, learning_rate=0.1, max_depth=7, n_estimators=200, subsample=0.8; total time=   0.2s\n",
      "[CV] END colsample_bytree=0.8, learning_rate=0.05, max_depth=7, n_estimators=500, subsample=0.8; total time=   0.5s\n",
      "[CV] END colsample_bytree=0.8, learning_rate=0.1, max_depth=5, n_estimators=500, subsample=1.0; total time=   0.3s\n",
      "[CV] END colsample_bytree=0.8, learning_rate=0.1, max_depth=5, n_estimators=500, subsample=0.8; total time=   0.3s\n",
      "[CV] END colsample_bytree=0.8, learning_rate=0.1, max_depth=5, n_estimators=500, subsample=1.0; total time=   0.2s\n",
      "[CV] END colsample_bytree=1.0, learning_rate=0.01, max_depth=3, n_estimators=500, subsample=0.8; total time=   0.2s\n",
      "[CV] END colsample_bytree=0.8, learning_rate=0.1, max_depth=5, n_estimators=500, subsample=1.0; total time=   0.3s\n",
      "[CV] END colsample_bytree=0.8, learning_rate=0.1, max_depth=5, n_estimators=500, subsample=0.8; total time=   0.3s\n",
      "[CV] END colsample_bytree=1.0, learning_rate=0.01, max_depth=5, n_estimators=200, subsample=1.0; total time=   0.1s\n",
      "[CV] END colsample_bytree=1.0, learning_rate=0.01, max_depth=5, n_estimators=200, subsample=0.8; total time=   0.1s\n",
      "[CV] END colsample_bytree=1.0, learning_rate=0.01, max_depth=5, n_estimators=200, subsample=0.8; total time=   0.1s[CV] END colsample_bytree=1.0, learning_rate=0.01, max_depth=5, n_estimators=200, subsample=0.8; total time=   0.1s\n",
      "\n",
      "[CV] END colsample_bytree=1.0, learning_rate=0.01, max_depth=5, n_estimators=200, subsample=1.0; total time=   0.1s\n",
      "[CV] END colsample_bytree=1.0, learning_rate=0.01, max_depth=5, n_estimators=200, subsample=1.0; total time=   0.1s\n",
      "[CV] END colsample_bytree=1.0, learning_rate=0.01, max_depth=3, n_estimators=500, subsample=1.0; total time=   0.2s\n",
      "[CV] END colsample_bytree=1.0, learning_rate=0.01, max_depth=3, n_estimators=500, subsample=1.0; total time=   0.2s\n",
      "[CV] END colsample_bytree=1.0, learning_rate=0.01, max_depth=3, n_estimators=500, subsample=0.8; total time=   0.3s\n",
      "[CV] END colsample_bytree=0.8, learning_rate=0.05, max_depth=7, n_estimators=500, subsample=1.0; total time=   0.5s\n",
      "[CV] END colsample_bytree=1.0, learning_rate=0.01, max_depth=3, n_estimators=500, subsample=1.0; total time=   0.2s\n",
      "[CV] END colsample_bytree=1.0, learning_rate=0.01, max_depth=3, n_estimators=500, subsample=0.8; total time=   0.2s\n",
      "[CV] END colsample_bytree=1.0, learning_rate=0.05, max_depth=3, n_estimators=200, subsample=0.8; total time=   0.1s\n",
      "[CV] END colsample_bytree=1.0, learning_rate=0.05, max_depth=3, n_estimators=200, subsample=0.8; total time=   0.1s\n",
      "[CV] END colsample_bytree=1.0, learning_rate=0.01, max_depth=7, n_estimators=200, subsample=0.8; total time=   0.1s\n",
      "[CV] END colsample_bytree=1.0, learning_rate=0.05, max_depth=3, n_estimators=200, subsample=0.8; total time=   0.1s\n",
      "[CV] END colsample_bytree=1.0, learning_rate=0.01, max_depth=7, n_estimators=200, subsample=1.0; total time=   0.1s\n",
      "[CV] END colsample_bytree=1.0, learning_rate=0.05, max_depth=3, n_estimators=200, subsample=1.0; total time=   0.1s\n",
      "[CV] END colsample_bytree=1.0, learning_rate=0.01, max_depth=7, n_estimators=200, subsample=1.0; total time=   0.2s\n",
      "[CV] END colsample_bytree=1.0, learning_rate=0.01, max_depth=7, n_estimators=200, subsample=1.0; total time=   0.1s\n",
      "[CV] END colsample_bytree=0.8, learning_rate=0.1, max_depth=7, n_estimators=500, subsample=1.0; total time=   0.3s\n",
      "[CV] END colsample_bytree=0.8, learning_rate=0.1, max_depth=7, n_estimators=500, subsample=1.0; total time=   0.4s\n",
      "[CV] END colsample_bytree=1.0, learning_rate=0.05, max_depth=3, n_estimators=200, subsample=1.0; total time=   0.1s\n",
      "[CV] END colsample_bytree=0.8, learning_rate=0.1, max_depth=7, n_estimators=500, subsample=0.8; total time=   0.4s\n",
      "[CV] END colsample_bytree=1.0, learning_rate=0.01, max_depth=7, n_estimators=200, subsample=0.8; total time=   0.2s\n",
      "[CV] END colsample_bytree=0.8, learning_rate=0.1, max_depth=7, n_estimators=500, subsample=1.0; total time=   0.3s\n",
      "[CV] END colsample_bytree=1.0, learning_rate=0.01, max_depth=5, n_estimators=500, subsample=0.8; total time=   0.2s\n",
      "[CV] END colsample_bytree=1.0, learning_rate=0.05, max_depth=3, n_estimators=200, subsample=1.0; total time=   0.1s\n",
      "[CV] END colsample_bytree=1.0, learning_rate=0.01, max_depth=5, n_estimators=500, subsample=0.8; total time=   0.3s\n",
      "[CV] END colsample_bytree=0.8, learning_rate=0.1, max_depth=7, n_estimators=500, subsample=0.8; total time=   0.4s\n",
      "[CV] END colsample_bytree=1.0, learning_rate=0.01, max_depth=5, n_estimators=500, subsample=1.0; total time=   0.3s\n",
      "[CV] END colsample_bytree=1.0, learning_rate=0.01, max_depth=7, n_estimators=200, subsample=0.8; total time=   0.2s\n",
      "[CV] END colsample_bytree=1.0, learning_rate=0.01, max_depth=5, n_estimators=500, subsample=0.8; total time=   0.3s\n",
      "[CV] END colsample_bytree=1.0, learning_rate=0.01, max_depth=5, n_estimators=500, subsample=1.0; total time=   0.3s\n",
      "[CV] END colsample_bytree=1.0, learning_rate=0.05, max_depth=3, n_estimators=500, subsample=0.8; total time=   0.2s\n",
      "[CV] END colsample_bytree=1.0, learning_rate=0.01, max_depth=5, n_estimators=500, subsample=1.0; total time=   0.3s\n",
      "[CV] END colsample_bytree=1.0, learning_rate=0.05, max_depth=5, n_estimators=200, subsample=0.8; total time=   0.1s\n",
      "[CV] END colsample_bytree=1.0, learning_rate=0.05, max_depth=3, n_estimators=500, subsample=0.8; total time=   0.2s\n",
      "[CV] END colsample_bytree=1.0, learning_rate=0.05, max_depth=5, n_estimators=200, subsample=0.8; total time=   0.1s\n",
      "[CV] END colsample_bytree=1.0, learning_rate=0.05, max_depth=5, n_estimators=200, subsample=1.0; total time=   0.1s\n",
      "[CV] END colsample_bytree=1.0, learning_rate=0.05, max_depth=5, n_estimators=200, subsample=0.8; total time=   0.1s\n",
      "[CV] END colsample_bytree=1.0, learning_rate=0.05, max_depth=3, n_estimators=500, subsample=1.0; total time=   0.2s\n",
      "[CV] END colsample_bytree=1.0, learning_rate=0.05, max_depth=3, n_estimators=500, subsample=1.0; total time=   0.2s\n",
      "[CV] END colsample_bytree=1.0, learning_rate=0.05, max_depth=3, n_estimators=500, subsample=0.8; total time=   0.2s\n",
      "[CV] END colsample_bytree=1.0, learning_rate=0.05, max_depth=3, n_estimators=500, subsample=1.0; total time=   0.2s\n",
      "[CV] END colsample_bytree=1.0, learning_rate=0.05, max_depth=5, n_estimators=200, subsample=1.0; total time=   0.1s\n",
      "[CV] END colsample_bytree=1.0, learning_rate=0.05, max_depth=5, n_estimators=200, subsample=1.0; total time=   0.2s\n",
      "[CV] END colsample_bytree=1.0, learning_rate=0.01, max_depth=7, n_estimators=500, subsample=1.0; total time=   0.3s\n",
      "[CV] END colsample_bytree=1.0, learning_rate=0.1, max_depth=3, n_estimators=200, subsample=0.8; total time=   0.1s\n",
      "[CV] END colsample_bytree=1.0, learning_rate=0.01, max_depth=7, n_estimators=500, subsample=1.0; total time=   0.3s\n",
      "[CV] END colsample_bytree=1.0, learning_rate=0.1, max_depth=3, n_estimators=200, subsample=0.8; total time=   0.1s\n",
      "[CV] END colsample_bytree=1.0, learning_rate=0.01, max_depth=7, n_estimators=500, subsample=1.0; total time=   0.3s\n",
      "[CV] END colsample_bytree=1.0, learning_rate=0.1, max_depth=3, n_estimators=200, subsample=0.8; total time=   0.1s\n",
      "[CV] END colsample_bytree=1.0, learning_rate=0.1, max_depth=3, n_estimators=200, subsample=1.0; total time=   0.1s\n",
      "[CV] END colsample_bytree=1.0, learning_rate=0.1, max_depth=3, n_estimators=200, subsample=1.0; total time=   0.1s\n",
      "[CV] END colsample_bytree=1.0, learning_rate=0.1, max_depth=3, n_estimators=200, subsample=1.0; total time=   0.1s\n",
      "[CV] END colsample_bytree=0.8, learning_rate=0.1, max_depth=7, n_estimators=500, subsample=0.8; total time=   0.6s\n",
      "[CV] END colsample_bytree=1.0, learning_rate=0.05, max_depth=7, n_estimators=200, subsample=0.8; total time=   0.2s\n",
      "[CV] END colsample_bytree=1.0, learning_rate=0.05, max_depth=7, n_estimators=200, subsample=0.8; total time=   0.2s\n",
      "[CV] END colsample_bytree=1.0, learning_rate=0.05, max_depth=7, n_estimators=200, subsample=1.0; total time=   0.2s\n",
      "[CV] END colsample_bytree=1.0, learning_rate=0.05, max_depth=5, n_estimators=500, subsample=1.0; total time=   0.2s\n",
      "[CV] END colsample_bytree=1.0, learning_rate=0.05, max_depth=7, n_estimators=200, subsample=0.8; total time=   0.2s\n",
      "[CV] END colsample_bytree=1.0, learning_rate=0.05, max_depth=5, n_estimators=500, subsample=0.8; total time=   0.3s\n",
      "[CV] END colsample_bytree=1.0, learning_rate=0.05, max_depth=7, n_estimators=200, subsample=1.0; total time=   0.2s\n",
      "[CV] END colsample_bytree=1.0, learning_rate=0.05, max_depth=5, n_estimators=500, subsample=0.8; total time=   0.3s\n",
      "[CV] END colsample_bytree=1.0, learning_rate=0.05, max_depth=7, n_estimators=200, subsample=1.0; total time=   0.2s\n",
      "[CV] END colsample_bytree=1.0, learning_rate=0.05, max_depth=5, n_estimators=500, subsample=1.0; total time=   0.3s\n",
      "[CV] END colsample_bytree=1.0, learning_rate=0.01, max_depth=7, n_estimators=500, subsample=0.8; total time=   0.5s\n",
      "[CV] END colsample_bytree=1.0, learning_rate=0.05, max_depth=5, n_estimators=500, subsample=1.0; total time=   0.3s\n",
      "[CV] END colsample_bytree=1.0, learning_rate=0.01, max_depth=7, n_estimators=500, subsample=0.8; total time=   0.5s\n",
      "[CV] END colsample_bytree=1.0, learning_rate=0.1, max_depth=3, n_estimators=500, subsample=0.8; total time=   0.2s\n",
      "[CV] END colsample_bytree=1.0, learning_rate=0.05, max_depth=5, n_estimators=500, subsample=0.8; total time=   0.3s\n",
      "[CV] END colsample_bytree=1.0, learning_rate=0.1, max_depth=5, n_estimators=200, subsample=0.8; total time=   0.1s\n",
      "[CV] END colsample_bytree=1.0, learning_rate=0.1, max_depth=5, n_estimators=200, subsample=1.0; total time=   0.1s\n",
      "[CV] END colsample_bytree=1.0, learning_rate=0.1, max_depth=5, n_estimators=200, subsample=1.0; total time=   0.1s\n",
      "[CV] END colsample_bytree=1.0, learning_rate=0.1, max_depth=5, n_estimators=200, subsample=0.8; total time=   0.1s\n",
      "[CV] END colsample_bytree=1.0, learning_rate=0.1, max_depth=3, n_estimators=500, subsample=0.8; total time=   0.2s\n",
      "[CV] END colsample_bytree=1.0, learning_rate=0.1, max_depth=3, n_estimators=500, subsample=1.0; total time=   0.2s\n",
      "[CV] END colsample_bytree=1.0, learning_rate=0.1, max_depth=3, n_estimators=500, subsample=0.8; total time=   0.2s\n",
      "[CV] END colsample_bytree=1.0, learning_rate=0.1, max_depth=5, n_estimators=200, subsample=1.0; total time=   0.1s\n",
      "[CV] END colsample_bytree=1.0, learning_rate=0.1, max_depth=3, n_estimators=500, subsample=1.0; total time=   0.2s\n",
      "[CV] END colsample_bytree=1.0, learning_rate=0.01, max_depth=7, n_estimators=500, subsample=0.8; total time=   0.5s\n",
      "[CV] END colsample_bytree=1.0, learning_rate=0.1, max_depth=3, n_estimators=500, subsample=1.0; total time=   0.2s\n",
      "[CV] END colsample_bytree=1.0, learning_rate=0.1, max_depth=5, n_estimators=200, subsample=0.8; total time=   0.2s\n",
      "[CV] END colsample_bytree=1.0, learning_rate=0.1, max_depth=7, n_estimators=200, subsample=1.0; total time=   0.1s\n",
      "[CV] END colsample_bytree=1.0, learning_rate=0.1, max_depth=7, n_estimators=200, subsample=1.0; total time=   0.1s\n",
      "[CV] END colsample_bytree=1.0, learning_rate=0.1, max_depth=7, n_estimators=200, subsample=1.0; total time=   0.1s\n",
      "[CV] END colsample_bytree=1.0, learning_rate=0.1, max_depth=7, n_estimators=200, subsample=0.8; total time=   0.2s\n",
      "[CV] END colsample_bytree=1.0, learning_rate=0.05, max_depth=7, n_estimators=500, subsample=1.0; total time=   0.4s\n",
      "[CV] END colsample_bytree=1.0, learning_rate=0.1, max_depth=7, n_estimators=200, subsample=0.8; total time=   0.2s\n",
      "[CV] END colsample_bytree=1.0, learning_rate=0.05, max_depth=7, n_estimators=500, subsample=1.0; total time=   0.4s\n",
      "[CV] END colsample_bytree=1.0, learning_rate=0.05, max_depth=7, n_estimators=500, subsample=1.0; total time=   0.4s\n",
      "[CV] END colsample_bytree=1.0, learning_rate=0.1, max_depth=7, n_estimators=200, subsample=0.8; total time=   0.2s\n",
      "[CV] END colsample_bytree=1.0, learning_rate=0.05, max_depth=7, n_estimators=500, subsample=0.8; total time=   0.4s\n",
      "[CV] END colsample_bytree=1.0, learning_rate=0.1, max_depth=5, n_estimators=500, subsample=1.0; total time=   0.2s\n",
      "[CV] END colsample_bytree=1.0, learning_rate=0.1, max_depth=5, n_estimators=500, subsample=1.0; total time=   0.2s\n",
      "[CV] END colsample_bytree=1.0, learning_rate=0.05, max_depth=7, n_estimators=500, subsample=0.8; total time=   0.4s\n",
      "[CV] END colsample_bytree=1.0, learning_rate=0.05, max_depth=7, n_estimators=500, subsample=0.8; total time=   0.4s\n",
      "[CV] END colsample_bytree=1.0, learning_rate=0.1, max_depth=5, n_estimators=500, subsample=1.0; total time=   0.2s\n",
      "[CV] END colsample_bytree=1.0, learning_rate=0.1, max_depth=5, n_estimators=500, subsample=0.8; total time=   0.3s\n",
      "[CV] END colsample_bytree=1.0, learning_rate=0.1, max_depth=5, n_estimators=500, subsample=0.8; total time=   0.3s\n",
      "[CV] END colsample_bytree=1.0, learning_rate=0.1, max_depth=5, n_estimators=500, subsample=0.8; total time=   0.3s\n",
      "[CV] END colsample_bytree=1.0, learning_rate=0.1, max_depth=7, n_estimators=500, subsample=1.0; total time=   0.2s\n",
      "[CV] END colsample_bytree=1.0, learning_rate=0.1, max_depth=7, n_estimators=500, subsample=1.0; total time=   0.2s\n",
      "[CV] END colsample_bytree=1.0, learning_rate=0.1, max_depth=7, n_estimators=500, subsample=1.0; total time=   0.3s\n",
      "[CV] END colsample_bytree=1.0, learning_rate=0.1, max_depth=7, n_estimators=500, subsample=0.8; total time=   0.3s\n",
      "[CV] END colsample_bytree=1.0, learning_rate=0.1, max_depth=7, n_estimators=500, subsample=0.8; total time=   0.3s\n",
      "[CV] END colsample_bytree=1.0, learning_rate=0.1, max_depth=7, n_estimators=500, subsample=0.8; total time=   0.3s\n"
     ]
    },
    {
     "data": {
      "text/html": [
       "<style>#sk-container-id-1 {\n",
       "  /* Definition of color scheme common for light and dark mode */\n",
       "  --sklearn-color-text: #000;\n",
       "  --sklearn-color-text-muted: #666;\n",
       "  --sklearn-color-line: gray;\n",
       "  /* Definition of color scheme for unfitted estimators */\n",
       "  --sklearn-color-unfitted-level-0: #fff5e6;\n",
       "  --sklearn-color-unfitted-level-1: #f6e4d2;\n",
       "  --sklearn-color-unfitted-level-2: #ffe0b3;\n",
       "  --sklearn-color-unfitted-level-3: chocolate;\n",
       "  /* Definition of color scheme for fitted estimators */\n",
       "  --sklearn-color-fitted-level-0: #f0f8ff;\n",
       "  --sklearn-color-fitted-level-1: #d4ebff;\n",
       "  --sklearn-color-fitted-level-2: #b3dbfd;\n",
       "  --sklearn-color-fitted-level-3: cornflowerblue;\n",
       "\n",
       "  /* Specific color for light theme */\n",
       "  --sklearn-color-text-on-default-background: var(--sg-text-color, var(--theme-code-foreground, var(--jp-content-font-color1, black)));\n",
       "  --sklearn-color-background: var(--sg-background-color, var(--theme-background, var(--jp-layout-color0, white)));\n",
       "  --sklearn-color-border-box: var(--sg-text-color, var(--theme-code-foreground, var(--jp-content-font-color1, black)));\n",
       "  --sklearn-color-icon: #696969;\n",
       "\n",
       "  @media (prefers-color-scheme: dark) {\n",
       "    /* Redefinition of color scheme for dark theme */\n",
       "    --sklearn-color-text-on-default-background: var(--sg-text-color, var(--theme-code-foreground, var(--jp-content-font-color1, white)));\n",
       "    --sklearn-color-background: var(--sg-background-color, var(--theme-background, var(--jp-layout-color0, #111)));\n",
       "    --sklearn-color-border-box: var(--sg-text-color, var(--theme-code-foreground, var(--jp-content-font-color1, white)));\n",
       "    --sklearn-color-icon: #878787;\n",
       "  }\n",
       "}\n",
       "\n",
       "#sk-container-id-1 {\n",
       "  color: var(--sklearn-color-text);\n",
       "}\n",
       "\n",
       "#sk-container-id-1 pre {\n",
       "  padding: 0;\n",
       "}\n",
       "\n",
       "#sk-container-id-1 input.sk-hidden--visually {\n",
       "  border: 0;\n",
       "  clip: rect(1px 1px 1px 1px);\n",
       "  clip: rect(1px, 1px, 1px, 1px);\n",
       "  height: 1px;\n",
       "  margin: -1px;\n",
       "  overflow: hidden;\n",
       "  padding: 0;\n",
       "  position: absolute;\n",
       "  width: 1px;\n",
       "}\n",
       "\n",
       "#sk-container-id-1 div.sk-dashed-wrapped {\n",
       "  border: 1px dashed var(--sklearn-color-line);\n",
       "  margin: 0 0.4em 0.5em 0.4em;\n",
       "  box-sizing: border-box;\n",
       "  padding-bottom: 0.4em;\n",
       "  background-color: var(--sklearn-color-background);\n",
       "}\n",
       "\n",
       "#sk-container-id-1 div.sk-container {\n",
       "  /* jupyter's `normalize.less` sets `[hidden] { display: none; }`\n",
       "     but bootstrap.min.css set `[hidden] { display: none !important; }`\n",
       "     so we also need the `!important` here to be able to override the\n",
       "     default hidden behavior on the sphinx rendered scikit-learn.org.\n",
       "     See: https://github.com/scikit-learn/scikit-learn/issues/21755 */\n",
       "  display: inline-block !important;\n",
       "  position: relative;\n",
       "}\n",
       "\n",
       "#sk-container-id-1 div.sk-text-repr-fallback {\n",
       "  display: none;\n",
       "}\n",
       "\n",
       "div.sk-parallel-item,\n",
       "div.sk-serial,\n",
       "div.sk-item {\n",
       "  /* draw centered vertical line to link estimators */\n",
       "  background-image: linear-gradient(var(--sklearn-color-text-on-default-background), var(--sklearn-color-text-on-default-background));\n",
       "  background-size: 2px 100%;\n",
       "  background-repeat: no-repeat;\n",
       "  background-position: center center;\n",
       "}\n",
       "\n",
       "/* Parallel-specific style estimator block */\n",
       "\n",
       "#sk-container-id-1 div.sk-parallel-item::after {\n",
       "  content: \"\";\n",
       "  width: 100%;\n",
       "  border-bottom: 2px solid var(--sklearn-color-text-on-default-background);\n",
       "  flex-grow: 1;\n",
       "}\n",
       "\n",
       "#sk-container-id-1 div.sk-parallel {\n",
       "  display: flex;\n",
       "  align-items: stretch;\n",
       "  justify-content: center;\n",
       "  background-color: var(--sklearn-color-background);\n",
       "  position: relative;\n",
       "}\n",
       "\n",
       "#sk-container-id-1 div.sk-parallel-item {\n",
       "  display: flex;\n",
       "  flex-direction: column;\n",
       "}\n",
       "\n",
       "#sk-container-id-1 div.sk-parallel-item:first-child::after {\n",
       "  align-self: flex-end;\n",
       "  width: 50%;\n",
       "}\n",
       "\n",
       "#sk-container-id-1 div.sk-parallel-item:last-child::after {\n",
       "  align-self: flex-start;\n",
       "  width: 50%;\n",
       "}\n",
       "\n",
       "#sk-container-id-1 div.sk-parallel-item:only-child::after {\n",
       "  width: 0;\n",
       "}\n",
       "\n",
       "/* Serial-specific style estimator block */\n",
       "\n",
       "#sk-container-id-1 div.sk-serial {\n",
       "  display: flex;\n",
       "  flex-direction: column;\n",
       "  align-items: center;\n",
       "  background-color: var(--sklearn-color-background);\n",
       "  padding-right: 1em;\n",
       "  padding-left: 1em;\n",
       "}\n",
       "\n",
       "\n",
       "/* Toggleable style: style used for estimator/Pipeline/ColumnTransformer box that is\n",
       "clickable and can be expanded/collapsed.\n",
       "- Pipeline and ColumnTransformer use this feature and define the default style\n",
       "- Estimators will overwrite some part of the style using the `sk-estimator` class\n",
       "*/\n",
       "\n",
       "/* Pipeline and ColumnTransformer style (default) */\n",
       "\n",
       "#sk-container-id-1 div.sk-toggleable {\n",
       "  /* Default theme specific background. It is overwritten whether we have a\n",
       "  specific estimator or a Pipeline/ColumnTransformer */\n",
       "  background-color: var(--sklearn-color-background);\n",
       "}\n",
       "\n",
       "/* Toggleable label */\n",
       "#sk-container-id-1 label.sk-toggleable__label {\n",
       "  cursor: pointer;\n",
       "  display: flex;\n",
       "  width: 100%;\n",
       "  margin-bottom: 0;\n",
       "  padding: 0.5em;\n",
       "  box-sizing: border-box;\n",
       "  text-align: center;\n",
       "  align-items: start;\n",
       "  justify-content: space-between;\n",
       "  gap: 0.5em;\n",
       "}\n",
       "\n",
       "#sk-container-id-1 label.sk-toggleable__label .caption {\n",
       "  font-size: 0.6rem;\n",
       "  font-weight: lighter;\n",
       "  color: var(--sklearn-color-text-muted);\n",
       "}\n",
       "\n",
       "#sk-container-id-1 label.sk-toggleable__label-arrow:before {\n",
       "  /* Arrow on the left of the label */\n",
       "  content: \"▸\";\n",
       "  float: left;\n",
       "  margin-right: 0.25em;\n",
       "  color: var(--sklearn-color-icon);\n",
       "}\n",
       "\n",
       "#sk-container-id-1 label.sk-toggleable__label-arrow:hover:before {\n",
       "  color: var(--sklearn-color-text);\n",
       "}\n",
       "\n",
       "/* Toggleable content - dropdown */\n",
       "\n",
       "#sk-container-id-1 div.sk-toggleable__content {\n",
       "  display: none;\n",
       "  text-align: left;\n",
       "  /* unfitted */\n",
       "  background-color: var(--sklearn-color-unfitted-level-0);\n",
       "}\n",
       "\n",
       "#sk-container-id-1 div.sk-toggleable__content.fitted {\n",
       "  /* fitted */\n",
       "  background-color: var(--sklearn-color-fitted-level-0);\n",
       "}\n",
       "\n",
       "#sk-container-id-1 div.sk-toggleable__content pre {\n",
       "  margin: 0.2em;\n",
       "  border-radius: 0.25em;\n",
       "  color: var(--sklearn-color-text);\n",
       "  /* unfitted */\n",
       "  background-color: var(--sklearn-color-unfitted-level-0);\n",
       "}\n",
       "\n",
       "#sk-container-id-1 div.sk-toggleable__content.fitted pre {\n",
       "  /* unfitted */\n",
       "  background-color: var(--sklearn-color-fitted-level-0);\n",
       "}\n",
       "\n",
       "#sk-container-id-1 input.sk-toggleable__control:checked~div.sk-toggleable__content {\n",
       "  /* Expand drop-down */\n",
       "  display: block;\n",
       "  width: 100%;\n",
       "  overflow: visible;\n",
       "}\n",
       "\n",
       "#sk-container-id-1 input.sk-toggleable__control:checked~label.sk-toggleable__label-arrow:before {\n",
       "  content: \"▾\";\n",
       "}\n",
       "\n",
       "/* Pipeline/ColumnTransformer-specific style */\n",
       "\n",
       "#sk-container-id-1 div.sk-label input.sk-toggleable__control:checked~label.sk-toggleable__label {\n",
       "  color: var(--sklearn-color-text);\n",
       "  background-color: var(--sklearn-color-unfitted-level-2);\n",
       "}\n",
       "\n",
       "#sk-container-id-1 div.sk-label.fitted input.sk-toggleable__control:checked~label.sk-toggleable__label {\n",
       "  background-color: var(--sklearn-color-fitted-level-2);\n",
       "}\n",
       "\n",
       "/* Estimator-specific style */\n",
       "\n",
       "/* Colorize estimator box */\n",
       "#sk-container-id-1 div.sk-estimator input.sk-toggleable__control:checked~label.sk-toggleable__label {\n",
       "  /* unfitted */\n",
       "  background-color: var(--sklearn-color-unfitted-level-2);\n",
       "}\n",
       "\n",
       "#sk-container-id-1 div.sk-estimator.fitted input.sk-toggleable__control:checked~label.sk-toggleable__label {\n",
       "  /* fitted */\n",
       "  background-color: var(--sklearn-color-fitted-level-2);\n",
       "}\n",
       "\n",
       "#sk-container-id-1 div.sk-label label.sk-toggleable__label,\n",
       "#sk-container-id-1 div.sk-label label {\n",
       "  /* The background is the default theme color */\n",
       "  color: var(--sklearn-color-text-on-default-background);\n",
       "}\n",
       "\n",
       "/* On hover, darken the color of the background */\n",
       "#sk-container-id-1 div.sk-label:hover label.sk-toggleable__label {\n",
       "  color: var(--sklearn-color-text);\n",
       "  background-color: var(--sklearn-color-unfitted-level-2);\n",
       "}\n",
       "\n",
       "/* Label box, darken color on hover, fitted */\n",
       "#sk-container-id-1 div.sk-label.fitted:hover label.sk-toggleable__label.fitted {\n",
       "  color: var(--sklearn-color-text);\n",
       "  background-color: var(--sklearn-color-fitted-level-2);\n",
       "}\n",
       "\n",
       "/* Estimator label */\n",
       "\n",
       "#sk-container-id-1 div.sk-label label {\n",
       "  font-family: monospace;\n",
       "  font-weight: bold;\n",
       "  display: inline-block;\n",
       "  line-height: 1.2em;\n",
       "}\n",
       "\n",
       "#sk-container-id-1 div.sk-label-container {\n",
       "  text-align: center;\n",
       "}\n",
       "\n",
       "/* Estimator-specific */\n",
       "#sk-container-id-1 div.sk-estimator {\n",
       "  font-family: monospace;\n",
       "  border: 1px dotted var(--sklearn-color-border-box);\n",
       "  border-radius: 0.25em;\n",
       "  box-sizing: border-box;\n",
       "  margin-bottom: 0.5em;\n",
       "  /* unfitted */\n",
       "  background-color: var(--sklearn-color-unfitted-level-0);\n",
       "}\n",
       "\n",
       "#sk-container-id-1 div.sk-estimator.fitted {\n",
       "  /* fitted */\n",
       "  background-color: var(--sklearn-color-fitted-level-0);\n",
       "}\n",
       "\n",
       "/* on hover */\n",
       "#sk-container-id-1 div.sk-estimator:hover {\n",
       "  /* unfitted */\n",
       "  background-color: var(--sklearn-color-unfitted-level-2);\n",
       "}\n",
       "\n",
       "#sk-container-id-1 div.sk-estimator.fitted:hover {\n",
       "  /* fitted */\n",
       "  background-color: var(--sklearn-color-fitted-level-2);\n",
       "}\n",
       "\n",
       "/* Specification for estimator info (e.g. \"i\" and \"?\") */\n",
       "\n",
       "/* Common style for \"i\" and \"?\" */\n",
       "\n",
       ".sk-estimator-doc-link,\n",
       "a:link.sk-estimator-doc-link,\n",
       "a:visited.sk-estimator-doc-link {\n",
       "  float: right;\n",
       "  font-size: smaller;\n",
       "  line-height: 1em;\n",
       "  font-family: monospace;\n",
       "  background-color: var(--sklearn-color-background);\n",
       "  border-radius: 1em;\n",
       "  height: 1em;\n",
       "  width: 1em;\n",
       "  text-decoration: none !important;\n",
       "  margin-left: 0.5em;\n",
       "  text-align: center;\n",
       "  /* unfitted */\n",
       "  border: var(--sklearn-color-unfitted-level-1) 1pt solid;\n",
       "  color: var(--sklearn-color-unfitted-level-1);\n",
       "}\n",
       "\n",
       ".sk-estimator-doc-link.fitted,\n",
       "a:link.sk-estimator-doc-link.fitted,\n",
       "a:visited.sk-estimator-doc-link.fitted {\n",
       "  /* fitted */\n",
       "  border: var(--sklearn-color-fitted-level-1) 1pt solid;\n",
       "  color: var(--sklearn-color-fitted-level-1);\n",
       "}\n",
       "\n",
       "/* On hover */\n",
       "div.sk-estimator:hover .sk-estimator-doc-link:hover,\n",
       ".sk-estimator-doc-link:hover,\n",
       "div.sk-label-container:hover .sk-estimator-doc-link:hover,\n",
       ".sk-estimator-doc-link:hover {\n",
       "  /* unfitted */\n",
       "  background-color: var(--sklearn-color-unfitted-level-3);\n",
       "  color: var(--sklearn-color-background);\n",
       "  text-decoration: none;\n",
       "}\n",
       "\n",
       "div.sk-estimator.fitted:hover .sk-estimator-doc-link.fitted:hover,\n",
       ".sk-estimator-doc-link.fitted:hover,\n",
       "div.sk-label-container:hover .sk-estimator-doc-link.fitted:hover,\n",
       ".sk-estimator-doc-link.fitted:hover {\n",
       "  /* fitted */\n",
       "  background-color: var(--sklearn-color-fitted-level-3);\n",
       "  color: var(--sklearn-color-background);\n",
       "  text-decoration: none;\n",
       "}\n",
       "\n",
       "/* Span, style for the box shown on hovering the info icon */\n",
       ".sk-estimator-doc-link span {\n",
       "  display: none;\n",
       "  z-index: 9999;\n",
       "  position: relative;\n",
       "  font-weight: normal;\n",
       "  right: .2ex;\n",
       "  padding: .5ex;\n",
       "  margin: .5ex;\n",
       "  width: min-content;\n",
       "  min-width: 20ex;\n",
       "  max-width: 50ex;\n",
       "  color: var(--sklearn-color-text);\n",
       "  box-shadow: 2pt 2pt 4pt #999;\n",
       "  /* unfitted */\n",
       "  background: var(--sklearn-color-unfitted-level-0);\n",
       "  border: .5pt solid var(--sklearn-color-unfitted-level-3);\n",
       "}\n",
       "\n",
       ".sk-estimator-doc-link.fitted span {\n",
       "  /* fitted */\n",
       "  background: var(--sklearn-color-fitted-level-0);\n",
       "  border: var(--sklearn-color-fitted-level-3);\n",
       "}\n",
       "\n",
       ".sk-estimator-doc-link:hover span {\n",
       "  display: block;\n",
       "}\n",
       "\n",
       "/* \"?\"-specific style due to the `<a>` HTML tag */\n",
       "\n",
       "#sk-container-id-1 a.estimator_doc_link {\n",
       "  float: right;\n",
       "  font-size: 1rem;\n",
       "  line-height: 1em;\n",
       "  font-family: monospace;\n",
       "  background-color: var(--sklearn-color-background);\n",
       "  border-radius: 1rem;\n",
       "  height: 1rem;\n",
       "  width: 1rem;\n",
       "  text-decoration: none;\n",
       "  /* unfitted */\n",
       "  color: var(--sklearn-color-unfitted-level-1);\n",
       "  border: var(--sklearn-color-unfitted-level-1) 1pt solid;\n",
       "}\n",
       "\n",
       "#sk-container-id-1 a.estimator_doc_link.fitted {\n",
       "  /* fitted */\n",
       "  border: var(--sklearn-color-fitted-level-1) 1pt solid;\n",
       "  color: var(--sklearn-color-fitted-level-1);\n",
       "}\n",
       "\n",
       "/* On hover */\n",
       "#sk-container-id-1 a.estimator_doc_link:hover {\n",
       "  /* unfitted */\n",
       "  background-color: var(--sklearn-color-unfitted-level-3);\n",
       "  color: var(--sklearn-color-background);\n",
       "  text-decoration: none;\n",
       "}\n",
       "\n",
       "#sk-container-id-1 a.estimator_doc_link.fitted:hover {\n",
       "  /* fitted */\n",
       "  background-color: var(--sklearn-color-fitted-level-3);\n",
       "}\n",
       "\n",
       ".estimator-table summary {\n",
       "    padding: .5rem;\n",
       "    font-family: monospace;\n",
       "    cursor: pointer;\n",
       "}\n",
       "\n",
       ".estimator-table details[open] {\n",
       "    padding-left: 0.1rem;\n",
       "    padding-right: 0.1rem;\n",
       "    padding-bottom: 0.3rem;\n",
       "}\n",
       "\n",
       ".estimator-table .parameters-table {\n",
       "    margin-left: auto !important;\n",
       "    margin-right: auto !important;\n",
       "}\n",
       "\n",
       ".estimator-table .parameters-table tr:nth-child(odd) {\n",
       "    background-color: #fff;\n",
       "}\n",
       "\n",
       ".estimator-table .parameters-table tr:nth-child(even) {\n",
       "    background-color: #f6f6f6;\n",
       "}\n",
       "\n",
       ".estimator-table .parameters-table tr:hover {\n",
       "    background-color: #e0e0e0;\n",
       "}\n",
       "\n",
       ".estimator-table table td {\n",
       "    border: 1px solid rgba(106, 105, 104, 0.232);\n",
       "}\n",
       "\n",
       ".user-set td {\n",
       "    color:rgb(255, 94, 0);\n",
       "    text-align: left;\n",
       "}\n",
       "\n",
       ".user-set td.value pre {\n",
       "    color:rgb(255, 94, 0) !important;\n",
       "    background-color: transparent !important;\n",
       "}\n",
       "\n",
       ".default td {\n",
       "    color: black;\n",
       "    text-align: left;\n",
       "}\n",
       "\n",
       ".user-set td i,\n",
       ".default td i {\n",
       "    color: black;\n",
       "}\n",
       "\n",
       ".copy-paste-icon {\n",
       "    background-image: url(data:image/svg+xml;base64,PHN2ZyB4bWxucz0iaHR0cDovL3d3dy53My5vcmcvMjAwMC9zdmciIHZpZXdCb3g9IjAgMCA0NDggNTEyIj48IS0tIUZvbnQgQXdlc29tZSBGcmVlIDYuNy4yIGJ5IEBmb250YXdlc29tZSAtIGh0dHBzOi8vZm9udGF3ZXNvbWUuY29tIExpY2Vuc2UgLSBodHRwczovL2ZvbnRhd2Vzb21lLmNvbS9saWNlbnNlL2ZyZWUgQ29weXJpZ2h0IDIwMjUgRm9udGljb25zLCBJbmMuLS0+PHBhdGggZD0iTTIwOCAwTDMzMi4xIDBjMTIuNyAwIDI0LjkgNS4xIDMzLjkgMTQuMWw2Ny45IDY3LjljOSA5IDE0LjEgMjEuMiAxNC4xIDMzLjlMNDQ4IDMzNmMwIDI2LjUtMjEuNSA0OC00OCA0OGwtMTkyIDBjLTI2LjUgMC00OC0yMS41LTQ4LTQ4bDAtMjg4YzAtMjYuNSAyMS41LTQ4IDQ4LTQ4ek00OCAxMjhsODAgMCAwIDY0LTY0IDAgMCAyNTYgMTkyIDAgMC0zMiA2NCAwIDAgNDhjMCAyNi41LTIxLjUgNDgtNDggNDhMNDggNTEyYy0yNi41IDAtNDgtMjEuNS00OC00OEwwIDE3NmMwLTI2LjUgMjEuNS00OCA0OC00OHoiLz48L3N2Zz4=);\n",
       "    background-repeat: no-repeat;\n",
       "    background-size: 14px 14px;\n",
       "    background-position: 0;\n",
       "    display: inline-block;\n",
       "    width: 14px;\n",
       "    height: 14px;\n",
       "    cursor: pointer;\n",
       "}\n",
       "</style><body><div id=\"sk-container-id-1\" class=\"sk-top-container\"><div class=\"sk-text-repr-fallback\"><pre>GridSearchCV(cv=3,\n",
       "             estimator=XGBClassifier(base_score=None, booster=None,\n",
       "                                     callbacks=None, colsample_bylevel=None,\n",
       "                                     colsample_bynode=None,\n",
       "                                     colsample_bytree=None, device=None,\n",
       "                                     early_stopping_rounds=None,\n",
       "                                     enable_categorical=False,\n",
       "                                     eval_metric=&#x27;logloss&#x27;, feature_types=None,\n",
       "                                     feature_weights=None, gamma=None,\n",
       "                                     grow_policy=None, importance_type=None,\n",
       "                                     interaction_constraint...\n",
       "                         &#x27;subsample&#x27;: [0.8, 1.0]},\n",
       "             refit=&#x27;pr_auc&#x27;, return_train_score=True,\n",
       "             scoring={&#x27;accuracy&#x27;: make_scorer(accuracy_score, response_method=&#x27;predict&#x27;),\n",
       "                      &#x27;pr_auc&#x27;: make_scorer(average_precision_score, response_method=&#x27;predict&#x27;),\n",
       "                      &#x27;precision&#x27;: make_scorer(precision_score, response_method=&#x27;predict&#x27;),\n",
       "                      &#x27;recall&#x27;: make_scorer(recall_score, response_method=&#x27;predict&#x27;),\n",
       "                      &#x27;roc_auc&#x27;: &#x27;roc_auc&#x27;},\n",
       "             verbose=2)</pre><b>In a Jupyter environment, please rerun this cell to show the HTML representation or trust the notebook. <br />On GitHub, the HTML representation is unable to render, please try loading this page with nbviewer.org.</b></div><div class=\"sk-container\" hidden><div class=\"sk-item sk-dashed-wrapped\"><div class=\"sk-label-container\"><div class=\"sk-label fitted sk-toggleable\"><input class=\"sk-toggleable__control sk-hidden--visually\" id=\"sk-estimator-id-1\" type=\"checkbox\" ><label for=\"sk-estimator-id-1\" class=\"sk-toggleable__label fitted sk-toggleable__label-arrow\"><div><div>GridSearchCV</div></div><div><a class=\"sk-estimator-doc-link fitted\" rel=\"noreferrer\" target=\"_blank\" href=\"https://scikit-learn.org/1.7/modules/generated/sklearn.model_selection.GridSearchCV.html\">?<span>Documentation for GridSearchCV</span></a><span class=\"sk-estimator-doc-link fitted\">i<span>Fitted</span></span></div></label><div class=\"sk-toggleable__content fitted\" data-param-prefix=\"\">\n",
       "        <div class=\"estimator-table\">\n",
       "            <details>\n",
       "                <summary>Parameters</summary>\n",
       "                <table class=\"parameters-table\">\n",
       "                  <tbody>\n",
       "                    \n",
       "        <tr class=\"user-set\">\n",
       "            <td><i class=\"copy-paste-icon\"\n",
       "                 onclick=\"copyToClipboard('estimator',\n",
       "                          this.parentElement.nextElementSibling)\"\n",
       "            ></i></td>\n",
       "            <td class=\"param\">estimator&nbsp;</td>\n",
       "            <td class=\"value\">XGBClassifier...ree=None, ...)</td>\n",
       "        </tr>\n",
       "    \n",
       "\n",
       "        <tr class=\"user-set\">\n",
       "            <td><i class=\"copy-paste-icon\"\n",
       "                 onclick=\"copyToClipboard('param_grid',\n",
       "                          this.parentElement.nextElementSibling)\"\n",
       "            ></i></td>\n",
       "            <td class=\"param\">param_grid&nbsp;</td>\n",
       "            <td class=\"value\">{&#x27;colsample_bytree&#x27;: [0.8, 1.0], &#x27;learning_rate&#x27;: [0.01, 0.05, ...], &#x27;max_depth&#x27;: [3, 5, ...], &#x27;n_estimators&#x27;: [200, 500], ...}</td>\n",
       "        </tr>\n",
       "    \n",
       "\n",
       "        <tr class=\"user-set\">\n",
       "            <td><i class=\"copy-paste-icon\"\n",
       "                 onclick=\"copyToClipboard('scoring',\n",
       "                          this.parentElement.nextElementSibling)\"\n",
       "            ></i></td>\n",
       "            <td class=\"param\">scoring&nbsp;</td>\n",
       "            <td class=\"value\">{&#x27;accuracy&#x27;: make_scorer(a...hod=&#x27;predict&#x27;), &#x27;pr_auc&#x27;: make_scorer(a...hod=&#x27;predict&#x27;), &#x27;precision&#x27;: make_scorer(p...hod=&#x27;predict&#x27;), &#x27;recall&#x27;: make_scorer(r...hod=&#x27;predict&#x27;), ...}</td>\n",
       "        </tr>\n",
       "    \n",
       "\n",
       "        <tr class=\"user-set\">\n",
       "            <td><i class=\"copy-paste-icon\"\n",
       "                 onclick=\"copyToClipboard('n_jobs',\n",
       "                          this.parentElement.nextElementSibling)\"\n",
       "            ></i></td>\n",
       "            <td class=\"param\">n_jobs&nbsp;</td>\n",
       "            <td class=\"value\">-1</td>\n",
       "        </tr>\n",
       "    \n",
       "\n",
       "        <tr class=\"user-set\">\n",
       "            <td><i class=\"copy-paste-icon\"\n",
       "                 onclick=\"copyToClipboard('refit',\n",
       "                          this.parentElement.nextElementSibling)\"\n",
       "            ></i></td>\n",
       "            <td class=\"param\">refit&nbsp;</td>\n",
       "            <td class=\"value\">&#x27;pr_auc&#x27;</td>\n",
       "        </tr>\n",
       "    \n",
       "\n",
       "        <tr class=\"user-set\">\n",
       "            <td><i class=\"copy-paste-icon\"\n",
       "                 onclick=\"copyToClipboard('cv',\n",
       "                          this.parentElement.nextElementSibling)\"\n",
       "            ></i></td>\n",
       "            <td class=\"param\">cv&nbsp;</td>\n",
       "            <td class=\"value\">3</td>\n",
       "        </tr>\n",
       "    \n",
       "\n",
       "        <tr class=\"user-set\">\n",
       "            <td><i class=\"copy-paste-icon\"\n",
       "                 onclick=\"copyToClipboard('verbose',\n",
       "                          this.parentElement.nextElementSibling)\"\n",
       "            ></i></td>\n",
       "            <td class=\"param\">verbose&nbsp;</td>\n",
       "            <td class=\"value\">2</td>\n",
       "        </tr>\n",
       "    \n",
       "\n",
       "        <tr class=\"default\">\n",
       "            <td><i class=\"copy-paste-icon\"\n",
       "                 onclick=\"copyToClipboard('pre_dispatch',\n",
       "                          this.parentElement.nextElementSibling)\"\n",
       "            ></i></td>\n",
       "            <td class=\"param\">pre_dispatch&nbsp;</td>\n",
       "            <td class=\"value\">&#x27;2*n_jobs&#x27;</td>\n",
       "        </tr>\n",
       "    \n",
       "\n",
       "        <tr class=\"default\">\n",
       "            <td><i class=\"copy-paste-icon\"\n",
       "                 onclick=\"copyToClipboard('error_score',\n",
       "                          this.parentElement.nextElementSibling)\"\n",
       "            ></i></td>\n",
       "            <td class=\"param\">error_score&nbsp;</td>\n",
       "            <td class=\"value\">nan</td>\n",
       "        </tr>\n",
       "    \n",
       "\n",
       "        <tr class=\"user-set\">\n",
       "            <td><i class=\"copy-paste-icon\"\n",
       "                 onclick=\"copyToClipboard('return_train_score',\n",
       "                          this.parentElement.nextElementSibling)\"\n",
       "            ></i></td>\n",
       "            <td class=\"param\">return_train_score&nbsp;</td>\n",
       "            <td class=\"value\">True</td>\n",
       "        </tr>\n",
       "    \n",
       "                  </tbody>\n",
       "                </table>\n",
       "            </details>\n",
       "        </div>\n",
       "    </div></div></div><div class=\"sk-parallel\"><div class=\"sk-parallel-item\"><div class=\"sk-item\"><div class=\"sk-label-container\"><div class=\"sk-label fitted sk-toggleable\"><input class=\"sk-toggleable__control sk-hidden--visually\" id=\"sk-estimator-id-2\" type=\"checkbox\" ><label for=\"sk-estimator-id-2\" class=\"sk-toggleable__label fitted sk-toggleable__label-arrow\"><div><div>best_estimator_: XGBClassifier</div></div></label><div class=\"sk-toggleable__content fitted\" data-param-prefix=\"best_estimator___\"><pre>XGBClassifier(base_score=None, booster=None, callbacks=None,\n",
       "              colsample_bylevel=None, colsample_bynode=None,\n",
       "              colsample_bytree=1.0, device=None, early_stopping_rounds=None,\n",
       "              enable_categorical=False, eval_metric=&#x27;logloss&#x27;,\n",
       "              feature_types=None, feature_weights=None, gamma=None,\n",
       "              grow_policy=None, importance_type=None,\n",
       "              interaction_constraints=None, learning_rate=0.1, max_bin=None,\n",
       "              max_cat_threshold=None, max_cat_to_onehot=None,\n",
       "              max_delta_step=None, max_depth=7, max_leaves=None,\n",
       "              min_child_weight=None, missing=nan, monotone_constraints=None,\n",
       "              multi_strategy=None, n_estimators=500, n_jobs=None,\n",
       "              num_parallel_tree=None, ...)</pre></div></div></div><div class=\"sk-serial\"><div class=\"sk-item\"><div class=\"sk-estimator fitted sk-toggleable\"><input class=\"sk-toggleable__control sk-hidden--visually\" id=\"sk-estimator-id-3\" type=\"checkbox\" ><label for=\"sk-estimator-id-3\" class=\"sk-toggleable__label fitted sk-toggleable__label-arrow\"><div><div>XGBClassifier</div></div><div><a class=\"sk-estimator-doc-link fitted\" rel=\"noreferrer\" target=\"_blank\" href=\"https://xgboost.readthedocs.io/en/release_3.0.0/python/python_api.html#xgboost.XGBClassifier\">?<span>Documentation for XGBClassifier</span></a></div></label><div class=\"sk-toggleable__content fitted\" data-param-prefix=\"best_estimator___\">\n",
       "        <div class=\"estimator-table\">\n",
       "            <details>\n",
       "                <summary>Parameters</summary>\n",
       "                <table class=\"parameters-table\">\n",
       "                  <tbody>\n",
       "                    \n",
       "        <tr class=\"default\">\n",
       "            <td><i class=\"copy-paste-icon\"\n",
       "                 onclick=\"copyToClipboard('objective',\n",
       "                          this.parentElement.nextElementSibling)\"\n",
       "            ></i></td>\n",
       "            <td class=\"param\">objective&nbsp;</td>\n",
       "            <td class=\"value\">&#x27;binary:logistic&#x27;</td>\n",
       "        </tr>\n",
       "    \n",
       "\n",
       "        <tr class=\"user-set\">\n",
       "            <td><i class=\"copy-paste-icon\"\n",
       "                 onclick=\"copyToClipboard('base_score',\n",
       "                          this.parentElement.nextElementSibling)\"\n",
       "            ></i></td>\n",
       "            <td class=\"param\">base_score&nbsp;</td>\n",
       "            <td class=\"value\">None</td>\n",
       "        </tr>\n",
       "    \n",
       "\n",
       "        <tr class=\"user-set\">\n",
       "            <td><i class=\"copy-paste-icon\"\n",
       "                 onclick=\"copyToClipboard('booster',\n",
       "                          this.parentElement.nextElementSibling)\"\n",
       "            ></i></td>\n",
       "            <td class=\"param\">booster&nbsp;</td>\n",
       "            <td class=\"value\">None</td>\n",
       "        </tr>\n",
       "    \n",
       "\n",
       "        <tr class=\"user-set\">\n",
       "            <td><i class=\"copy-paste-icon\"\n",
       "                 onclick=\"copyToClipboard('callbacks',\n",
       "                          this.parentElement.nextElementSibling)\"\n",
       "            ></i></td>\n",
       "            <td class=\"param\">callbacks&nbsp;</td>\n",
       "            <td class=\"value\">None</td>\n",
       "        </tr>\n",
       "    \n",
       "\n",
       "        <tr class=\"user-set\">\n",
       "            <td><i class=\"copy-paste-icon\"\n",
       "                 onclick=\"copyToClipboard('colsample_bylevel',\n",
       "                          this.parentElement.nextElementSibling)\"\n",
       "            ></i></td>\n",
       "            <td class=\"param\">colsample_bylevel&nbsp;</td>\n",
       "            <td class=\"value\">None</td>\n",
       "        </tr>\n",
       "    \n",
       "\n",
       "        <tr class=\"user-set\">\n",
       "            <td><i class=\"copy-paste-icon\"\n",
       "                 onclick=\"copyToClipboard('colsample_bynode',\n",
       "                          this.parentElement.nextElementSibling)\"\n",
       "            ></i></td>\n",
       "            <td class=\"param\">colsample_bynode&nbsp;</td>\n",
       "            <td class=\"value\">None</td>\n",
       "        </tr>\n",
       "    \n",
       "\n",
       "        <tr class=\"user-set\">\n",
       "            <td><i class=\"copy-paste-icon\"\n",
       "                 onclick=\"copyToClipboard('colsample_bytree',\n",
       "                          this.parentElement.nextElementSibling)\"\n",
       "            ></i></td>\n",
       "            <td class=\"param\">colsample_bytree&nbsp;</td>\n",
       "            <td class=\"value\">1.0</td>\n",
       "        </tr>\n",
       "    \n",
       "\n",
       "        <tr class=\"user-set\">\n",
       "            <td><i class=\"copy-paste-icon\"\n",
       "                 onclick=\"copyToClipboard('device',\n",
       "                          this.parentElement.nextElementSibling)\"\n",
       "            ></i></td>\n",
       "            <td class=\"param\">device&nbsp;</td>\n",
       "            <td class=\"value\">None</td>\n",
       "        </tr>\n",
       "    \n",
       "\n",
       "        <tr class=\"user-set\">\n",
       "            <td><i class=\"copy-paste-icon\"\n",
       "                 onclick=\"copyToClipboard('early_stopping_rounds',\n",
       "                          this.parentElement.nextElementSibling)\"\n",
       "            ></i></td>\n",
       "            <td class=\"param\">early_stopping_rounds&nbsp;</td>\n",
       "            <td class=\"value\">None</td>\n",
       "        </tr>\n",
       "    \n",
       "\n",
       "        <tr class=\"user-set\">\n",
       "            <td><i class=\"copy-paste-icon\"\n",
       "                 onclick=\"copyToClipboard('enable_categorical',\n",
       "                          this.parentElement.nextElementSibling)\"\n",
       "            ></i></td>\n",
       "            <td class=\"param\">enable_categorical&nbsp;</td>\n",
       "            <td class=\"value\">False</td>\n",
       "        </tr>\n",
       "    \n",
       "\n",
       "        <tr class=\"user-set\">\n",
       "            <td><i class=\"copy-paste-icon\"\n",
       "                 onclick=\"copyToClipboard('eval_metric',\n",
       "                          this.parentElement.nextElementSibling)\"\n",
       "            ></i></td>\n",
       "            <td class=\"param\">eval_metric&nbsp;</td>\n",
       "            <td class=\"value\">&#x27;logloss&#x27;</td>\n",
       "        </tr>\n",
       "    \n",
       "\n",
       "        <tr class=\"user-set\">\n",
       "            <td><i class=\"copy-paste-icon\"\n",
       "                 onclick=\"copyToClipboard('feature_types',\n",
       "                          this.parentElement.nextElementSibling)\"\n",
       "            ></i></td>\n",
       "            <td class=\"param\">feature_types&nbsp;</td>\n",
       "            <td class=\"value\">None</td>\n",
       "        </tr>\n",
       "    \n",
       "\n",
       "        <tr class=\"user-set\">\n",
       "            <td><i class=\"copy-paste-icon\"\n",
       "                 onclick=\"copyToClipboard('feature_weights',\n",
       "                          this.parentElement.nextElementSibling)\"\n",
       "            ></i></td>\n",
       "            <td class=\"param\">feature_weights&nbsp;</td>\n",
       "            <td class=\"value\">None</td>\n",
       "        </tr>\n",
       "    \n",
       "\n",
       "        <tr class=\"user-set\">\n",
       "            <td><i class=\"copy-paste-icon\"\n",
       "                 onclick=\"copyToClipboard('gamma',\n",
       "                          this.parentElement.nextElementSibling)\"\n",
       "            ></i></td>\n",
       "            <td class=\"param\">gamma&nbsp;</td>\n",
       "            <td class=\"value\">None</td>\n",
       "        </tr>\n",
       "    \n",
       "\n",
       "        <tr class=\"user-set\">\n",
       "            <td><i class=\"copy-paste-icon\"\n",
       "                 onclick=\"copyToClipboard('grow_policy',\n",
       "                          this.parentElement.nextElementSibling)\"\n",
       "            ></i></td>\n",
       "            <td class=\"param\">grow_policy&nbsp;</td>\n",
       "            <td class=\"value\">None</td>\n",
       "        </tr>\n",
       "    \n",
       "\n",
       "        <tr class=\"user-set\">\n",
       "            <td><i class=\"copy-paste-icon\"\n",
       "                 onclick=\"copyToClipboard('importance_type',\n",
       "                          this.parentElement.nextElementSibling)\"\n",
       "            ></i></td>\n",
       "            <td class=\"param\">importance_type&nbsp;</td>\n",
       "            <td class=\"value\">None</td>\n",
       "        </tr>\n",
       "    \n",
       "\n",
       "        <tr class=\"user-set\">\n",
       "            <td><i class=\"copy-paste-icon\"\n",
       "                 onclick=\"copyToClipboard('interaction_constraints',\n",
       "                          this.parentElement.nextElementSibling)\"\n",
       "            ></i></td>\n",
       "            <td class=\"param\">interaction_constraints&nbsp;</td>\n",
       "            <td class=\"value\">None</td>\n",
       "        </tr>\n",
       "    \n",
       "\n",
       "        <tr class=\"user-set\">\n",
       "            <td><i class=\"copy-paste-icon\"\n",
       "                 onclick=\"copyToClipboard('learning_rate',\n",
       "                          this.parentElement.nextElementSibling)\"\n",
       "            ></i></td>\n",
       "            <td class=\"param\">learning_rate&nbsp;</td>\n",
       "            <td class=\"value\">0.1</td>\n",
       "        </tr>\n",
       "    \n",
       "\n",
       "        <tr class=\"user-set\">\n",
       "            <td><i class=\"copy-paste-icon\"\n",
       "                 onclick=\"copyToClipboard('max_bin',\n",
       "                          this.parentElement.nextElementSibling)\"\n",
       "            ></i></td>\n",
       "            <td class=\"param\">max_bin&nbsp;</td>\n",
       "            <td class=\"value\">None</td>\n",
       "        </tr>\n",
       "    \n",
       "\n",
       "        <tr class=\"user-set\">\n",
       "            <td><i class=\"copy-paste-icon\"\n",
       "                 onclick=\"copyToClipboard('max_cat_threshold',\n",
       "                          this.parentElement.nextElementSibling)\"\n",
       "            ></i></td>\n",
       "            <td class=\"param\">max_cat_threshold&nbsp;</td>\n",
       "            <td class=\"value\">None</td>\n",
       "        </tr>\n",
       "    \n",
       "\n",
       "        <tr class=\"user-set\">\n",
       "            <td><i class=\"copy-paste-icon\"\n",
       "                 onclick=\"copyToClipboard('max_cat_to_onehot',\n",
       "                          this.parentElement.nextElementSibling)\"\n",
       "            ></i></td>\n",
       "            <td class=\"param\">max_cat_to_onehot&nbsp;</td>\n",
       "            <td class=\"value\">None</td>\n",
       "        </tr>\n",
       "    \n",
       "\n",
       "        <tr class=\"user-set\">\n",
       "            <td><i class=\"copy-paste-icon\"\n",
       "                 onclick=\"copyToClipboard('max_delta_step',\n",
       "                          this.parentElement.nextElementSibling)\"\n",
       "            ></i></td>\n",
       "            <td class=\"param\">max_delta_step&nbsp;</td>\n",
       "            <td class=\"value\">None</td>\n",
       "        </tr>\n",
       "    \n",
       "\n",
       "        <tr class=\"user-set\">\n",
       "            <td><i class=\"copy-paste-icon\"\n",
       "                 onclick=\"copyToClipboard('max_depth',\n",
       "                          this.parentElement.nextElementSibling)\"\n",
       "            ></i></td>\n",
       "            <td class=\"param\">max_depth&nbsp;</td>\n",
       "            <td class=\"value\">7</td>\n",
       "        </tr>\n",
       "    \n",
       "\n",
       "        <tr class=\"user-set\">\n",
       "            <td><i class=\"copy-paste-icon\"\n",
       "                 onclick=\"copyToClipboard('max_leaves',\n",
       "                          this.parentElement.nextElementSibling)\"\n",
       "            ></i></td>\n",
       "            <td class=\"param\">max_leaves&nbsp;</td>\n",
       "            <td class=\"value\">None</td>\n",
       "        </tr>\n",
       "    \n",
       "\n",
       "        <tr class=\"user-set\">\n",
       "            <td><i class=\"copy-paste-icon\"\n",
       "                 onclick=\"copyToClipboard('min_child_weight',\n",
       "                          this.parentElement.nextElementSibling)\"\n",
       "            ></i></td>\n",
       "            <td class=\"param\">min_child_weight&nbsp;</td>\n",
       "            <td class=\"value\">None</td>\n",
       "        </tr>\n",
       "    \n",
       "\n",
       "        <tr class=\"user-set\">\n",
       "            <td><i class=\"copy-paste-icon\"\n",
       "                 onclick=\"copyToClipboard('missing',\n",
       "                          this.parentElement.nextElementSibling)\"\n",
       "            ></i></td>\n",
       "            <td class=\"param\">missing&nbsp;</td>\n",
       "            <td class=\"value\">nan</td>\n",
       "        </tr>\n",
       "    \n",
       "\n",
       "        <tr class=\"user-set\">\n",
       "            <td><i class=\"copy-paste-icon\"\n",
       "                 onclick=\"copyToClipboard('monotone_constraints',\n",
       "                          this.parentElement.nextElementSibling)\"\n",
       "            ></i></td>\n",
       "            <td class=\"param\">monotone_constraints&nbsp;</td>\n",
       "            <td class=\"value\">None</td>\n",
       "        </tr>\n",
       "    \n",
       "\n",
       "        <tr class=\"user-set\">\n",
       "            <td><i class=\"copy-paste-icon\"\n",
       "                 onclick=\"copyToClipboard('multi_strategy',\n",
       "                          this.parentElement.nextElementSibling)\"\n",
       "            ></i></td>\n",
       "            <td class=\"param\">multi_strategy&nbsp;</td>\n",
       "            <td class=\"value\">None</td>\n",
       "        </tr>\n",
       "    \n",
       "\n",
       "        <tr class=\"user-set\">\n",
       "            <td><i class=\"copy-paste-icon\"\n",
       "                 onclick=\"copyToClipboard('n_estimators',\n",
       "                          this.parentElement.nextElementSibling)\"\n",
       "            ></i></td>\n",
       "            <td class=\"param\">n_estimators&nbsp;</td>\n",
       "            <td class=\"value\">500</td>\n",
       "        </tr>\n",
       "    \n",
       "\n",
       "        <tr class=\"user-set\">\n",
       "            <td><i class=\"copy-paste-icon\"\n",
       "                 onclick=\"copyToClipboard('n_jobs',\n",
       "                          this.parentElement.nextElementSibling)\"\n",
       "            ></i></td>\n",
       "            <td class=\"param\">n_jobs&nbsp;</td>\n",
       "            <td class=\"value\">None</td>\n",
       "        </tr>\n",
       "    \n",
       "\n",
       "        <tr class=\"user-set\">\n",
       "            <td><i class=\"copy-paste-icon\"\n",
       "                 onclick=\"copyToClipboard('num_parallel_tree',\n",
       "                          this.parentElement.nextElementSibling)\"\n",
       "            ></i></td>\n",
       "            <td class=\"param\">num_parallel_tree&nbsp;</td>\n",
       "            <td class=\"value\">None</td>\n",
       "        </tr>\n",
       "    \n",
       "\n",
       "        <tr class=\"user-set\">\n",
       "            <td><i class=\"copy-paste-icon\"\n",
       "                 onclick=\"copyToClipboard('random_state',\n",
       "                          this.parentElement.nextElementSibling)\"\n",
       "            ></i></td>\n",
       "            <td class=\"param\">random_state&nbsp;</td>\n",
       "            <td class=\"value\">42</td>\n",
       "        </tr>\n",
       "    \n",
       "\n",
       "        <tr class=\"user-set\">\n",
       "            <td><i class=\"copy-paste-icon\"\n",
       "                 onclick=\"copyToClipboard('reg_alpha',\n",
       "                          this.parentElement.nextElementSibling)\"\n",
       "            ></i></td>\n",
       "            <td class=\"param\">reg_alpha&nbsp;</td>\n",
       "            <td class=\"value\">None</td>\n",
       "        </tr>\n",
       "    \n",
       "\n",
       "        <tr class=\"user-set\">\n",
       "            <td><i class=\"copy-paste-icon\"\n",
       "                 onclick=\"copyToClipboard('reg_lambda',\n",
       "                          this.parentElement.nextElementSibling)\"\n",
       "            ></i></td>\n",
       "            <td class=\"param\">reg_lambda&nbsp;</td>\n",
       "            <td class=\"value\">None</td>\n",
       "        </tr>\n",
       "    \n",
       "\n",
       "        <tr class=\"user-set\">\n",
       "            <td><i class=\"copy-paste-icon\"\n",
       "                 onclick=\"copyToClipboard('sampling_method',\n",
       "                          this.parentElement.nextElementSibling)\"\n",
       "            ></i></td>\n",
       "            <td class=\"param\">sampling_method&nbsp;</td>\n",
       "            <td class=\"value\">None</td>\n",
       "        </tr>\n",
       "    \n",
       "\n",
       "        <tr class=\"user-set\">\n",
       "            <td><i class=\"copy-paste-icon\"\n",
       "                 onclick=\"copyToClipboard('scale_pos_weight',\n",
       "                          this.parentElement.nextElementSibling)\"\n",
       "            ></i></td>\n",
       "            <td class=\"param\">scale_pos_weight&nbsp;</td>\n",
       "            <td class=\"value\">None</td>\n",
       "        </tr>\n",
       "    \n",
       "\n",
       "        <tr class=\"user-set\">\n",
       "            <td><i class=\"copy-paste-icon\"\n",
       "                 onclick=\"copyToClipboard('subsample',\n",
       "                          this.parentElement.nextElementSibling)\"\n",
       "            ></i></td>\n",
       "            <td class=\"param\">subsample&nbsp;</td>\n",
       "            <td class=\"value\">1.0</td>\n",
       "        </tr>\n",
       "    \n",
       "\n",
       "        <tr class=\"user-set\">\n",
       "            <td><i class=\"copy-paste-icon\"\n",
       "                 onclick=\"copyToClipboard('tree_method',\n",
       "                          this.parentElement.nextElementSibling)\"\n",
       "            ></i></td>\n",
       "            <td class=\"param\">tree_method&nbsp;</td>\n",
       "            <td class=\"value\">None</td>\n",
       "        </tr>\n",
       "    \n",
       "\n",
       "        <tr class=\"user-set\">\n",
       "            <td><i class=\"copy-paste-icon\"\n",
       "                 onclick=\"copyToClipboard('validate_parameters',\n",
       "                          this.parentElement.nextElementSibling)\"\n",
       "            ></i></td>\n",
       "            <td class=\"param\">validate_parameters&nbsp;</td>\n",
       "            <td class=\"value\">None</td>\n",
       "        </tr>\n",
       "    \n",
       "\n",
       "        <tr class=\"user-set\">\n",
       "            <td><i class=\"copy-paste-icon\"\n",
       "                 onclick=\"copyToClipboard('verbosity',\n",
       "                          this.parentElement.nextElementSibling)\"\n",
       "            ></i></td>\n",
       "            <td class=\"param\">verbosity&nbsp;</td>\n",
       "            <td class=\"value\">None</td>\n",
       "        </tr>\n",
       "    \n",
       "                  </tbody>\n",
       "                </table>\n",
       "            </details>\n",
       "        </div>\n",
       "    </div></div></div></div></div></div></div></div></div></div><script>function copyToClipboard(text, element) {\n",
       "    // Get the parameter prefix from the closest toggleable content\n",
       "    const toggleableContent = element.closest('.sk-toggleable__content');\n",
       "    const paramPrefix = toggleableContent ? toggleableContent.dataset.paramPrefix : '';\n",
       "    const fullParamName = paramPrefix ? `${paramPrefix}${text}` : text;\n",
       "\n",
       "    const originalStyle = element.style;\n",
       "    const computedStyle = window.getComputedStyle(element);\n",
       "    const originalWidth = computedStyle.width;\n",
       "    const originalHTML = element.innerHTML.replace('Copied!', '');\n",
       "\n",
       "    navigator.clipboard.writeText(fullParamName)\n",
       "        .then(() => {\n",
       "            element.style.width = originalWidth;\n",
       "            element.style.color = 'green';\n",
       "            element.innerHTML = \"Copied!\";\n",
       "\n",
       "            setTimeout(() => {\n",
       "                element.innerHTML = originalHTML;\n",
       "                element.style = originalStyle;\n",
       "            }, 2000);\n",
       "        })\n",
       "        .catch(err => {\n",
       "            console.error('Failed to copy:', err);\n",
       "            element.style.color = 'red';\n",
       "            element.innerHTML = \"Failed!\";\n",
       "            setTimeout(() => {\n",
       "                element.innerHTML = originalHTML;\n",
       "                element.style = originalStyle;\n",
       "            }, 2000);\n",
       "        });\n",
       "    return false;\n",
       "}\n",
       "\n",
       "document.querySelectorAll('.fa-regular.fa-copy').forEach(function(element) {\n",
       "    const toggleableContent = element.closest('.sk-toggleable__content');\n",
       "    const paramPrefix = toggleableContent ? toggleableContent.dataset.paramPrefix : '';\n",
       "    const paramName = element.parentElement.nextElementSibling.textContent.trim();\n",
       "    const fullParamName = paramPrefix ? `${paramPrefix}${paramName}` : paramName;\n",
       "\n",
       "    element.setAttribute('title', fullParamName);\n",
       "});\n",
       "</script></body>"
      ],
      "text/plain": [
       "GridSearchCV(cv=3,\n",
       "             estimator=XGBClassifier(base_score=None, booster=None,\n",
       "                                     callbacks=None, colsample_bylevel=None,\n",
       "                                     colsample_bynode=None,\n",
       "                                     colsample_bytree=None, device=None,\n",
       "                                     early_stopping_rounds=None,\n",
       "                                     enable_categorical=False,\n",
       "                                     eval_metric='logloss', feature_types=None,\n",
       "                                     feature_weights=None, gamma=None,\n",
       "                                     grow_policy=None, importance_type=None,\n",
       "                                     interaction_constraint...\n",
       "                         'subsample': [0.8, 1.0]},\n",
       "             refit='pr_auc', return_train_score=True,\n",
       "             scoring={'accuracy': make_scorer(accuracy_score, response_method='predict'),\n",
       "                      'pr_auc': make_scorer(average_precision_score, response_method='predict'),\n",
       "                      'precision': make_scorer(precision_score, response_method='predict'),\n",
       "                      'recall': make_scorer(recall_score, response_method='predict'),\n",
       "                      'roc_auc': 'roc_auc'},\n",
       "             verbose=2)"
      ]
     },
     "execution_count": 14,
     "metadata": {},
     "output_type": "execute_result"
    }
   ],
   "source": [
    "grid_search.fit(X_train, y_train)"
   ]
  },
  {
   "cell_type": "code",
   "execution_count": 15,
   "id": "24cfaf9e",
   "metadata": {},
   "outputs": [
    {
     "data": {
      "text/html": [
       "<div>\n",
       "<style scoped>\n",
       "    .dataframe tbody tr th:only-of-type {\n",
       "        vertical-align: middle;\n",
       "    }\n",
       "\n",
       "    .dataframe tbody tr th {\n",
       "        vertical-align: top;\n",
       "    }\n",
       "\n",
       "    .dataframe thead th {\n",
       "        text-align: right;\n",
       "    }\n",
       "</style>\n",
       "<table border=\"1\" class=\"dataframe\">\n",
       "  <thead>\n",
       "    <tr style=\"text-align: right;\">\n",
       "      <th></th>\n",
       "      <th>param_max_depth</th>\n",
       "      <th>param_learning_rate</th>\n",
       "      <th>param_n_estimators</th>\n",
       "      <th>param_subsample</th>\n",
       "      <th>param_colsample_bytree</th>\n",
       "      <th>mean_test_accuracy</th>\n",
       "      <th>mean_test_precision</th>\n",
       "      <th>mean_test_recall</th>\n",
       "      <th>mean_test_roc_auc</th>\n",
       "      <th>mean_test_pr_auc</th>\n",
       "      <th>mean_train_accuracy</th>\n",
       "      <th>mean_train_precision</th>\n",
       "      <th>mean_train_recall</th>\n",
       "      <th>mean_train_roc_auc</th>\n",
       "      <th>mean_train_pr_auc</th>\n",
       "    </tr>\n",
       "  </thead>\n",
       "  <tbody>\n",
       "    <tr>\n",
       "      <th>71</th>\n",
       "      <td>7</td>\n",
       "      <td>0.10</td>\n",
       "      <td>500</td>\n",
       "      <td>1.0</td>\n",
       "      <td>1.0</td>\n",
       "      <td>0.725430</td>\n",
       "      <td>0.745607</td>\n",
       "      <td>0.876707</td>\n",
       "      <td>0.749090</td>\n",
       "      <td>0.733908</td>\n",
       "      <td>0.891143</td>\n",
       "      <td>0.874052</td>\n",
       "      <td>0.972747</td>\n",
       "      <td>0.960473</td>\n",
       "      <td>0.867937</td>\n",
       "    </tr>\n",
       "    <tr>\n",
       "      <th>58</th>\n",
       "      <td>7</td>\n",
       "      <td>0.05</td>\n",
       "      <td>500</td>\n",
       "      <td>0.8</td>\n",
       "      <td>1.0</td>\n",
       "      <td>0.720859</td>\n",
       "      <td>0.740309</td>\n",
       "      <td>0.878904</td>\n",
       "      <td>0.742812</td>\n",
       "      <td>0.729434</td>\n",
       "      <td>0.888285</td>\n",
       "      <td>0.872425</td>\n",
       "      <td>0.970000</td>\n",
       "      <td>0.958414</td>\n",
       "      <td>0.865750</td>\n",
       "    </tr>\n",
       "    <tr>\n",
       "      <th>35</th>\n",
       "      <td>7</td>\n",
       "      <td>0.10</td>\n",
       "      <td>500</td>\n",
       "      <td>1.0</td>\n",
       "      <td>0.8</td>\n",
       "      <td>0.718573</td>\n",
       "      <td>0.743226</td>\n",
       "      <td>0.866594</td>\n",
       "      <td>0.741995</td>\n",
       "      <td>0.730805</td>\n",
       "      <td>0.892357</td>\n",
       "      <td>0.876157</td>\n",
       "      <td>0.971758</td>\n",
       "      <td>0.961939</td>\n",
       "      <td>0.869770</td>\n",
       "    </tr>\n",
       "    <tr>\n",
       "      <th>22</th>\n",
       "      <td>7</td>\n",
       "      <td>0.05</td>\n",
       "      <td>500</td>\n",
       "      <td>0.8</td>\n",
       "      <td>0.8</td>\n",
       "      <td>0.719002</td>\n",
       "      <td>0.738666</td>\n",
       "      <td>0.878683</td>\n",
       "      <td>0.740319</td>\n",
       "      <td>0.727964</td>\n",
       "      <td>0.882857</td>\n",
       "      <td>0.865422</td>\n",
       "      <td>0.970769</td>\n",
       "      <td>0.954836</td>\n",
       "      <td>0.859123</td>\n",
       "    </tr>\n",
       "    <tr>\n",
       "      <th>59</th>\n",
       "      <td>7</td>\n",
       "      <td>0.05</td>\n",
       "      <td>500</td>\n",
       "      <td>1.0</td>\n",
       "      <td>1.0</td>\n",
       "      <td>0.721716</td>\n",
       "      <td>0.730170</td>\n",
       "      <td>0.907252</td>\n",
       "      <td>0.739152</td>\n",
       "      <td>0.722731</td>\n",
       "      <td>0.853643</td>\n",
       "      <td>0.829599</td>\n",
       "      <td>0.975165</td>\n",
       "      <td>0.936885</td>\n",
       "      <td>0.825143</td>\n",
       "    </tr>\n",
       "    <tr>\n",
       "      <th>23</th>\n",
       "      <td>7</td>\n",
       "      <td>0.05</td>\n",
       "      <td>500</td>\n",
       "      <td>1.0</td>\n",
       "      <td>0.8</td>\n",
       "      <td>0.722573</td>\n",
       "      <td>0.734222</td>\n",
       "      <td>0.898680</td>\n",
       "      <td>0.737207</td>\n",
       "      <td>0.725660</td>\n",
       "      <td>0.858714</td>\n",
       "      <td>0.836387</td>\n",
       "      <td>0.972967</td>\n",
       "      <td>0.940457</td>\n",
       "      <td>0.831350</td>\n",
       "    </tr>\n",
       "    <tr>\n",
       "      <th>68</th>\n",
       "      <td>7</td>\n",
       "      <td>0.10</td>\n",
       "      <td>200</td>\n",
       "      <td>0.8</td>\n",
       "      <td>1.0</td>\n",
       "      <td>0.715859</td>\n",
       "      <td>0.736157</td>\n",
       "      <td>0.877365</td>\n",
       "      <td>0.736631</td>\n",
       "      <td>0.725668</td>\n",
       "      <td>0.874500</td>\n",
       "      <td>0.857411</td>\n",
       "      <td>0.967912</td>\n",
       "      <td>0.949834</td>\n",
       "      <td>0.850754</td>\n",
       "    </tr>\n",
       "    <tr>\n",
       "      <th>70</th>\n",
       "      <td>7</td>\n",
       "      <td>0.10</td>\n",
       "      <td>500</td>\n",
       "      <td>0.8</td>\n",
       "      <td>1.0</td>\n",
       "      <td>0.716716</td>\n",
       "      <td>0.747573</td>\n",
       "      <td>0.851870</td>\n",
       "      <td>0.736630</td>\n",
       "      <td>0.733155</td>\n",
       "      <td>0.911714</td>\n",
       "      <td>0.902740</td>\n",
       "      <td>0.968571</td>\n",
       "      <td>0.972538</td>\n",
       "      <td>0.894799</td>\n",
       "    </tr>\n",
       "    <tr>\n",
       "      <th>69</th>\n",
       "      <td>7</td>\n",
       "      <td>0.10</td>\n",
       "      <td>200</td>\n",
       "      <td>1.0</td>\n",
       "      <td>1.0</td>\n",
       "      <td>0.720715</td>\n",
       "      <td>0.729215</td>\n",
       "      <td>0.907252</td>\n",
       "      <td>0.736553</td>\n",
       "      <td>0.721869</td>\n",
       "      <td>0.846572</td>\n",
       "      <td>0.821419</td>\n",
       "      <td>0.976264</td>\n",
       "      <td>0.929796</td>\n",
       "      <td>0.817341</td>\n",
       "    </tr>\n",
       "    <tr>\n",
       "      <th>34</th>\n",
       "      <td>7</td>\n",
       "      <td>0.10</td>\n",
       "      <td>500</td>\n",
       "      <td>0.8</td>\n",
       "      <td>0.8</td>\n",
       "      <td>0.715859</td>\n",
       "      <td>0.746001</td>\n",
       "      <td>0.853410</td>\n",
       "      <td>0.736157</td>\n",
       "      <td>0.732035</td>\n",
       "      <td>0.909071</td>\n",
       "      <td>0.898016</td>\n",
       "      <td>0.970329</td>\n",
       "      <td>0.970625</td>\n",
       "      <td>0.890657</td>\n",
       "    </tr>\n",
       "  </tbody>\n",
       "</table>\n",
       "</div>"
      ],
      "text/plain": [
       "    param_max_depth  param_learning_rate  param_n_estimators  param_subsample  \\\n",
       "71                7                 0.10                 500              1.0   \n",
       "58                7                 0.05                 500              0.8   \n",
       "35                7                 0.10                 500              1.0   \n",
       "22                7                 0.05                 500              0.8   \n",
       "59                7                 0.05                 500              1.0   \n",
       "23                7                 0.05                 500              1.0   \n",
       "68                7                 0.10                 200              0.8   \n",
       "70                7                 0.10                 500              0.8   \n",
       "69                7                 0.10                 200              1.0   \n",
       "34                7                 0.10                 500              0.8   \n",
       "\n",
       "    param_colsample_bytree  mean_test_accuracy  mean_test_precision  \\\n",
       "71                     1.0            0.725430             0.745607   \n",
       "58                     1.0            0.720859             0.740309   \n",
       "35                     0.8            0.718573             0.743226   \n",
       "22                     0.8            0.719002             0.738666   \n",
       "59                     1.0            0.721716             0.730170   \n",
       "23                     0.8            0.722573             0.734222   \n",
       "68                     1.0            0.715859             0.736157   \n",
       "70                     1.0            0.716716             0.747573   \n",
       "69                     1.0            0.720715             0.729215   \n",
       "34                     0.8            0.715859             0.746001   \n",
       "\n",
       "    mean_test_recall  mean_test_roc_auc  mean_test_pr_auc  \\\n",
       "71          0.876707           0.749090          0.733908   \n",
       "58          0.878904           0.742812          0.729434   \n",
       "35          0.866594           0.741995          0.730805   \n",
       "22          0.878683           0.740319          0.727964   \n",
       "59          0.907252           0.739152          0.722731   \n",
       "23          0.898680           0.737207          0.725660   \n",
       "68          0.877365           0.736631          0.725668   \n",
       "70          0.851870           0.736630          0.733155   \n",
       "69          0.907252           0.736553          0.721869   \n",
       "34          0.853410           0.736157          0.732035   \n",
       "\n",
       "    mean_train_accuracy  mean_train_precision  mean_train_recall  \\\n",
       "71             0.891143              0.874052           0.972747   \n",
       "58             0.888285              0.872425           0.970000   \n",
       "35             0.892357              0.876157           0.971758   \n",
       "22             0.882857              0.865422           0.970769   \n",
       "59             0.853643              0.829599           0.975165   \n",
       "23             0.858714              0.836387           0.972967   \n",
       "68             0.874500              0.857411           0.967912   \n",
       "70             0.911714              0.902740           0.968571   \n",
       "69             0.846572              0.821419           0.976264   \n",
       "34             0.909071              0.898016           0.970329   \n",
       "\n",
       "    mean_train_roc_auc  mean_train_pr_auc  \n",
       "71            0.960473           0.867937  \n",
       "58            0.958414           0.865750  \n",
       "35            0.961939           0.869770  \n",
       "22            0.954836           0.859123  \n",
       "59            0.936885           0.825143  \n",
       "23            0.940457           0.831350  \n",
       "68            0.949834           0.850754  \n",
       "70            0.972538           0.894799  \n",
       "69            0.929796           0.817341  \n",
       "34            0.970625           0.890657  "
      ]
     },
     "execution_count": 15,
     "metadata": {},
     "output_type": "execute_result"
    }
   ],
   "source": [
    "results = pd.DataFrame(grid_search.cv_results_)\n",
    "\n",
    "# Select relevant columns\n",
    "summary = results[\n",
    "    [\n",
    "        \"param_max_depth\",\n",
    "        \"param_learning_rate\",\n",
    "        \"param_n_estimators\",\n",
    "        \"param_subsample\",\n",
    "        \"param_colsample_bytree\",\n",
    "        \"mean_test_accuracy\",\n",
    "        \"mean_test_precision\",\n",
    "        \"mean_test_recall\",\n",
    "        \"mean_test_roc_auc\",\n",
    "        \"mean_test_pr_auc\",\n",
    "        \"mean_train_accuracy\",\n",
    "        \"mean_train_precision\",\n",
    "        \"mean_train_recall\",\n",
    "        \"mean_train_roc_auc\",\n",
    "        \"mean_train_pr_auc\",\n",
    "    ]\n",
    "]\n",
    "\n",
    "# Sort by AUC\n",
    "summary = summary.sort_values(by=\"mean_test_roc_auc\", ascending=False)\n",
    "\n",
    "summary.head(10)\n"
   ]
  },
  {
   "cell_type": "code",
   "execution_count": 16,
   "id": "1fcfd442",
   "metadata": {},
   "outputs": [
    {
     "name": "stdout",
     "output_type": "stream",
     "text": [
      "Best params: {'colsample_bytree': 1.0, 'learning_rate': 0.1, 'max_depth': 7, 'n_estimators': 500, 'subsample': 1.0}\n",
      "Best CV AUC: 0.7339080974489517\n",
      "Test AUC: 0.7793084249084249\n",
      "Test Accuracy: 0.7493333333333333\n",
      "Test Precision: 0.7588591184096802\n",
      "Test Recall: 0.9005128205128206\n",
      "Test AP: 0.8492840329449831\n"
     ]
    }
   ],
   "source": [
    "from sklearn.metrics import (\n",
    "    confusion_matrix,\n",
    "    roc_curve,\n",
    "    roc_auc_score,\n",
    "    precision_recall_curve,\n",
    "    average_precision_score,\n",
    ")\n",
    "print(\"Best params:\", grid_search.best_params_)\n",
    "print(\"Best CV AUC:\", grid_search.best_score_)\n",
    "\n",
    "# Refit best model on full train\n",
    "best_model = grid_search.best_estimator_\n",
    "test_auc = roc_auc_score(y_test, best_model.predict_proba(X_test)[:, 1])\n",
    "print(\"Test AUC:\", test_auc)\n",
    "\n",
    "test_acc = accuracy_score(y_test, best_model.predict(X_test))\n",
    "print(\"Test Accuracy:\", test_acc)\n",
    "\n",
    "test_prec = precision_score(y_test, best_model.predict(X_test))\n",
    "print(\"Test Precision:\", test_prec)\n",
    "\n",
    "test_rec = recall_score(y_test, best_model.predict(X_test))\n",
    "print(\"Test Recall:\", test_rec)\n",
    "\n",
    "test_ap = average_precision_score(y_test, best_model.predict_proba(X_test)[:, 1])\n",
    "print(\"Test AP:\", test_ap)\n"
   ]
  },
  {
   "cell_type": "code",
   "execution_count": 17,
   "id": "00af9467",
   "metadata": {},
   "outputs": [
    {
     "data": {
      "application/vnd.plotly.v1+json": {
       "config": {
        "plotlyServerURL": "https://plot.ly"
       },
       "data": [
        {
         "coloraxis": "coloraxis",
         "hovertemplate": "x: %{x}<br>y: %{y}<br>color: %{z}<extra></extra>",
         "name": "0",
         "texttemplate": "%{z}",
         "type": "heatmap",
         "x": [
          "Pred 0",
          "Pred 1"
         ],
         "xaxis": "x",
         "y": [
          "Actual 0",
          "Actual 1"
         ],
         "yaxis": "y",
         "z": {
          "bdata": "9gAXAWEAbgM=",
          "dtype": "i2",
          "shape": "2, 2"
         }
        }
       ],
       "layout": {
        "coloraxis": {
         "colorscale": [
          [
           0,
           "rgb(247,251,255)"
          ],
          [
           0.125,
           "rgb(222,235,247)"
          ],
          [
           0.25,
           "rgb(198,219,239)"
          ],
          [
           0.375,
           "rgb(158,202,225)"
          ],
          [
           0.5,
           "rgb(107,174,214)"
          ],
          [
           0.625,
           "rgb(66,146,198)"
          ],
          [
           0.75,
           "rgb(33,113,181)"
          ],
          [
           0.875,
           "rgb(8,81,156)"
          ],
          [
           1,
           "rgb(8,48,107)"
          ]
         ],
         "showscale": false
        },
        "template": {
         "data": {
          "bar": [
           {
            "error_x": {
             "color": "#2a3f5f"
            },
            "error_y": {
             "color": "#2a3f5f"
            },
            "marker": {
             "line": {
              "color": "#E5ECF6",
              "width": 0.5
             },
             "pattern": {
              "fillmode": "overlay",
              "size": 10,
              "solidity": 0.2
             }
            },
            "type": "bar"
           }
          ],
          "barpolar": [
           {
            "marker": {
             "line": {
              "color": "#E5ECF6",
              "width": 0.5
             },
             "pattern": {
              "fillmode": "overlay",
              "size": 10,
              "solidity": 0.2
             }
            },
            "type": "barpolar"
           }
          ],
          "carpet": [
           {
            "aaxis": {
             "endlinecolor": "#2a3f5f",
             "gridcolor": "white",
             "linecolor": "white",
             "minorgridcolor": "white",
             "startlinecolor": "#2a3f5f"
            },
            "baxis": {
             "endlinecolor": "#2a3f5f",
             "gridcolor": "white",
             "linecolor": "white",
             "minorgridcolor": "white",
             "startlinecolor": "#2a3f5f"
            },
            "type": "carpet"
           }
          ],
          "choropleth": [
           {
            "colorbar": {
             "outlinewidth": 0,
             "ticks": ""
            },
            "type": "choropleth"
           }
          ],
          "contour": [
           {
            "colorbar": {
             "outlinewidth": 0,
             "ticks": ""
            },
            "colorscale": [
             [
              0,
              "#0d0887"
             ],
             [
              0.1111111111111111,
              "#46039f"
             ],
             [
              0.2222222222222222,
              "#7201a8"
             ],
             [
              0.3333333333333333,
              "#9c179e"
             ],
             [
              0.4444444444444444,
              "#bd3786"
             ],
             [
              0.5555555555555556,
              "#d8576b"
             ],
             [
              0.6666666666666666,
              "#ed7953"
             ],
             [
              0.7777777777777778,
              "#fb9f3a"
             ],
             [
              0.8888888888888888,
              "#fdca26"
             ],
             [
              1,
              "#f0f921"
             ]
            ],
            "type": "contour"
           }
          ],
          "contourcarpet": [
           {
            "colorbar": {
             "outlinewidth": 0,
             "ticks": ""
            },
            "type": "contourcarpet"
           }
          ],
          "heatmap": [
           {
            "colorbar": {
             "outlinewidth": 0,
             "ticks": ""
            },
            "colorscale": [
             [
              0,
              "#0d0887"
             ],
             [
              0.1111111111111111,
              "#46039f"
             ],
             [
              0.2222222222222222,
              "#7201a8"
             ],
             [
              0.3333333333333333,
              "#9c179e"
             ],
             [
              0.4444444444444444,
              "#bd3786"
             ],
             [
              0.5555555555555556,
              "#d8576b"
             ],
             [
              0.6666666666666666,
              "#ed7953"
             ],
             [
              0.7777777777777778,
              "#fb9f3a"
             ],
             [
              0.8888888888888888,
              "#fdca26"
             ],
             [
              1,
              "#f0f921"
             ]
            ],
            "type": "heatmap"
           }
          ],
          "histogram": [
           {
            "marker": {
             "pattern": {
              "fillmode": "overlay",
              "size": 10,
              "solidity": 0.2
             }
            },
            "type": "histogram"
           }
          ],
          "histogram2d": [
           {
            "colorbar": {
             "outlinewidth": 0,
             "ticks": ""
            },
            "colorscale": [
             [
              0,
              "#0d0887"
             ],
             [
              0.1111111111111111,
              "#46039f"
             ],
             [
              0.2222222222222222,
              "#7201a8"
             ],
             [
              0.3333333333333333,
              "#9c179e"
             ],
             [
              0.4444444444444444,
              "#bd3786"
             ],
             [
              0.5555555555555556,
              "#d8576b"
             ],
             [
              0.6666666666666666,
              "#ed7953"
             ],
             [
              0.7777777777777778,
              "#fb9f3a"
             ],
             [
              0.8888888888888888,
              "#fdca26"
             ],
             [
              1,
              "#f0f921"
             ]
            ],
            "type": "histogram2d"
           }
          ],
          "histogram2dcontour": [
           {
            "colorbar": {
             "outlinewidth": 0,
             "ticks": ""
            },
            "colorscale": [
             [
              0,
              "#0d0887"
             ],
             [
              0.1111111111111111,
              "#46039f"
             ],
             [
              0.2222222222222222,
              "#7201a8"
             ],
             [
              0.3333333333333333,
              "#9c179e"
             ],
             [
              0.4444444444444444,
              "#bd3786"
             ],
             [
              0.5555555555555556,
              "#d8576b"
             ],
             [
              0.6666666666666666,
              "#ed7953"
             ],
             [
              0.7777777777777778,
              "#fb9f3a"
             ],
             [
              0.8888888888888888,
              "#fdca26"
             ],
             [
              1,
              "#f0f921"
             ]
            ],
            "type": "histogram2dcontour"
           }
          ],
          "mesh3d": [
           {
            "colorbar": {
             "outlinewidth": 0,
             "ticks": ""
            },
            "type": "mesh3d"
           }
          ],
          "parcoords": [
           {
            "line": {
             "colorbar": {
              "outlinewidth": 0,
              "ticks": ""
             }
            },
            "type": "parcoords"
           }
          ],
          "pie": [
           {
            "automargin": true,
            "type": "pie"
           }
          ],
          "scatter": [
           {
            "fillpattern": {
             "fillmode": "overlay",
             "size": 10,
             "solidity": 0.2
            },
            "type": "scatter"
           }
          ],
          "scatter3d": [
           {
            "line": {
             "colorbar": {
              "outlinewidth": 0,
              "ticks": ""
             }
            },
            "marker": {
             "colorbar": {
              "outlinewidth": 0,
              "ticks": ""
             }
            },
            "type": "scatter3d"
           }
          ],
          "scattercarpet": [
           {
            "marker": {
             "colorbar": {
              "outlinewidth": 0,
              "ticks": ""
             }
            },
            "type": "scattercarpet"
           }
          ],
          "scattergeo": [
           {
            "marker": {
             "colorbar": {
              "outlinewidth": 0,
              "ticks": ""
             }
            },
            "type": "scattergeo"
           }
          ],
          "scattergl": [
           {
            "marker": {
             "colorbar": {
              "outlinewidth": 0,
              "ticks": ""
             }
            },
            "type": "scattergl"
           }
          ],
          "scattermap": [
           {
            "marker": {
             "colorbar": {
              "outlinewidth": 0,
              "ticks": ""
             }
            },
            "type": "scattermap"
           }
          ],
          "scattermapbox": [
           {
            "marker": {
             "colorbar": {
              "outlinewidth": 0,
              "ticks": ""
             }
            },
            "type": "scattermapbox"
           }
          ],
          "scatterpolar": [
           {
            "marker": {
             "colorbar": {
              "outlinewidth": 0,
              "ticks": ""
             }
            },
            "type": "scatterpolar"
           }
          ],
          "scatterpolargl": [
           {
            "marker": {
             "colorbar": {
              "outlinewidth": 0,
              "ticks": ""
             }
            },
            "type": "scatterpolargl"
           }
          ],
          "scatterternary": [
           {
            "marker": {
             "colorbar": {
              "outlinewidth": 0,
              "ticks": ""
             }
            },
            "type": "scatterternary"
           }
          ],
          "surface": [
           {
            "colorbar": {
             "outlinewidth": 0,
             "ticks": ""
            },
            "colorscale": [
             [
              0,
              "#0d0887"
             ],
             [
              0.1111111111111111,
              "#46039f"
             ],
             [
              0.2222222222222222,
              "#7201a8"
             ],
             [
              0.3333333333333333,
              "#9c179e"
             ],
             [
              0.4444444444444444,
              "#bd3786"
             ],
             [
              0.5555555555555556,
              "#d8576b"
             ],
             [
              0.6666666666666666,
              "#ed7953"
             ],
             [
              0.7777777777777778,
              "#fb9f3a"
             ],
             [
              0.8888888888888888,
              "#fdca26"
             ],
             [
              1,
              "#f0f921"
             ]
            ],
            "type": "surface"
           }
          ],
          "table": [
           {
            "cells": {
             "fill": {
              "color": "#EBF0F8"
             },
             "line": {
              "color": "white"
             }
            },
            "header": {
             "fill": {
              "color": "#C8D4E3"
             },
             "line": {
              "color": "white"
             }
            },
            "type": "table"
           }
          ]
         },
         "layout": {
          "annotationdefaults": {
           "arrowcolor": "#2a3f5f",
           "arrowhead": 0,
           "arrowwidth": 1
          },
          "autotypenumbers": "strict",
          "coloraxis": {
           "colorbar": {
            "outlinewidth": 0,
            "ticks": ""
           }
          },
          "colorscale": {
           "diverging": [
            [
             0,
             "#8e0152"
            ],
            [
             0.1,
             "#c51b7d"
            ],
            [
             0.2,
             "#de77ae"
            ],
            [
             0.3,
             "#f1b6da"
            ],
            [
             0.4,
             "#fde0ef"
            ],
            [
             0.5,
             "#f7f7f7"
            ],
            [
             0.6,
             "#e6f5d0"
            ],
            [
             0.7,
             "#b8e186"
            ],
            [
             0.8,
             "#7fbc41"
            ],
            [
             0.9,
             "#4d9221"
            ],
            [
             1,
             "#276419"
            ]
           ],
           "sequential": [
            [
             0,
             "#0d0887"
            ],
            [
             0.1111111111111111,
             "#46039f"
            ],
            [
             0.2222222222222222,
             "#7201a8"
            ],
            [
             0.3333333333333333,
             "#9c179e"
            ],
            [
             0.4444444444444444,
             "#bd3786"
            ],
            [
             0.5555555555555556,
             "#d8576b"
            ],
            [
             0.6666666666666666,
             "#ed7953"
            ],
            [
             0.7777777777777778,
             "#fb9f3a"
            ],
            [
             0.8888888888888888,
             "#fdca26"
            ],
            [
             1,
             "#f0f921"
            ]
           ],
           "sequentialminus": [
            [
             0,
             "#0d0887"
            ],
            [
             0.1111111111111111,
             "#46039f"
            ],
            [
             0.2222222222222222,
             "#7201a8"
            ],
            [
             0.3333333333333333,
             "#9c179e"
            ],
            [
             0.4444444444444444,
             "#bd3786"
            ],
            [
             0.5555555555555556,
             "#d8576b"
            ],
            [
             0.6666666666666666,
             "#ed7953"
            ],
            [
             0.7777777777777778,
             "#fb9f3a"
            ],
            [
             0.8888888888888888,
             "#fdca26"
            ],
            [
             1,
             "#f0f921"
            ]
           ]
          },
          "colorway": [
           "#636efa",
           "#EF553B",
           "#00cc96",
           "#ab63fa",
           "#FFA15A",
           "#19d3f3",
           "#FF6692",
           "#B6E880",
           "#FF97FF",
           "#FECB52"
          ],
          "font": {
           "color": "#2a3f5f"
          },
          "geo": {
           "bgcolor": "white",
           "lakecolor": "white",
           "landcolor": "#E5ECF6",
           "showlakes": true,
           "showland": true,
           "subunitcolor": "white"
          },
          "hoverlabel": {
           "align": "left"
          },
          "hovermode": "closest",
          "mapbox": {
           "style": "light"
          },
          "paper_bgcolor": "white",
          "plot_bgcolor": "#E5ECF6",
          "polar": {
           "angularaxis": {
            "gridcolor": "white",
            "linecolor": "white",
            "ticks": ""
           },
           "bgcolor": "#E5ECF6",
           "radialaxis": {
            "gridcolor": "white",
            "linecolor": "white",
            "ticks": ""
           }
          },
          "scene": {
           "xaxis": {
            "backgroundcolor": "#E5ECF6",
            "gridcolor": "white",
            "gridwidth": 2,
            "linecolor": "white",
            "showbackground": true,
            "ticks": "",
            "zerolinecolor": "white"
           },
           "yaxis": {
            "backgroundcolor": "#E5ECF6",
            "gridcolor": "white",
            "gridwidth": 2,
            "linecolor": "white",
            "showbackground": true,
            "ticks": "",
            "zerolinecolor": "white"
           },
           "zaxis": {
            "backgroundcolor": "#E5ECF6",
            "gridcolor": "white",
            "gridwidth": 2,
            "linecolor": "white",
            "showbackground": true,
            "ticks": "",
            "zerolinecolor": "white"
           }
          },
          "shapedefaults": {
           "line": {
            "color": "#2a3f5f"
           }
          },
          "ternary": {
           "aaxis": {
            "gridcolor": "white",
            "linecolor": "white",
            "ticks": ""
           },
           "baxis": {
            "gridcolor": "white",
            "linecolor": "white",
            "ticks": ""
           },
           "bgcolor": "#E5ECF6",
           "caxis": {
            "gridcolor": "white",
            "linecolor": "white",
            "ticks": ""
           }
          },
          "title": {
           "x": 0.05
          },
          "xaxis": {
           "automargin": true,
           "gridcolor": "white",
           "linecolor": "white",
           "ticks": "",
           "title": {
            "standoff": 15
           },
           "zerolinecolor": "white",
           "zerolinewidth": 2
          },
          "yaxis": {
           "automargin": true,
           "gridcolor": "white",
           "linecolor": "white",
           "ticks": "",
           "title": {
            "standoff": 15
           },
           "zerolinecolor": "white",
           "zerolinewidth": 2
          }
         }
        },
        "title": {
         "text": "Confusion Matrix (threshold = 0.5)"
        },
        "xaxis": {
         "anchor": "y",
         "constrain": "domain",
         "domain": [
          0,
          1
         ],
         "scaleanchor": "y"
        },
        "yaxis": {
         "anchor": "x",
         "autorange": "reversed",
         "constrain": "domain",
         "domain": [
          0,
          1
         ]
        }
       }
      }
     },
     "metadata": {},
     "output_type": "display_data"
    },
    {
     "data": {
      "application/vnd.plotly.v1+json": {
       "config": {
        "plotlyServerURL": "https://plot.ly"
       },
       "data": [
        {
         "mode": "lines",
         "name": "ROC (AUC=0.779)",
         "type": "scatter",
         "x": {
          "bdata": "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",
          "dtype": "f8"
         },
         "y": {
          "bdata": "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",
          "dtype": "f8"
         }
        },
        {
         "line": {
          "dash": "dash"
         },
         "mode": "lines",
         "name": "Chance",
         "type": "scatter",
         "x": [
          0,
          1
         ],
         "y": [
          0,
          1
         ]
        }
       ],
       "layout": {
        "template": {
         "data": {
          "bar": [
           {
            "error_x": {
             "color": "#2a3f5f"
            },
            "error_y": {
             "color": "#2a3f5f"
            },
            "marker": {
             "line": {
              "color": "#E5ECF6",
              "width": 0.5
             },
             "pattern": {
              "fillmode": "overlay",
              "size": 10,
              "solidity": 0.2
             }
            },
            "type": "bar"
           }
          ],
          "barpolar": [
           {
            "marker": {
             "line": {
              "color": "#E5ECF6",
              "width": 0.5
             },
             "pattern": {
              "fillmode": "overlay",
              "size": 10,
              "solidity": 0.2
             }
            },
            "type": "barpolar"
           }
          ],
          "carpet": [
           {
            "aaxis": {
             "endlinecolor": "#2a3f5f",
             "gridcolor": "white",
             "linecolor": "white",
             "minorgridcolor": "white",
             "startlinecolor": "#2a3f5f"
            },
            "baxis": {
             "endlinecolor": "#2a3f5f",
             "gridcolor": "white",
             "linecolor": "white",
             "minorgridcolor": "white",
             "startlinecolor": "#2a3f5f"
            },
            "type": "carpet"
           }
          ],
          "choropleth": [
           {
            "colorbar": {
             "outlinewidth": 0,
             "ticks": ""
            },
            "type": "choropleth"
           }
          ],
          "contour": [
           {
            "colorbar": {
             "outlinewidth": 0,
             "ticks": ""
            },
            "colorscale": [
             [
              0,
              "#0d0887"
             ],
             [
              0.1111111111111111,
              "#46039f"
             ],
             [
              0.2222222222222222,
              "#7201a8"
             ],
             [
              0.3333333333333333,
              "#9c179e"
             ],
             [
              0.4444444444444444,
              "#bd3786"
             ],
             [
              0.5555555555555556,
              "#d8576b"
             ],
             [
              0.6666666666666666,
              "#ed7953"
             ],
             [
              0.7777777777777778,
              "#fb9f3a"
             ],
             [
              0.8888888888888888,
              "#fdca26"
             ],
             [
              1,
              "#f0f921"
             ]
            ],
            "type": "contour"
           }
          ],
          "contourcarpet": [
           {
            "colorbar": {
             "outlinewidth": 0,
             "ticks": ""
            },
            "type": "contourcarpet"
           }
          ],
          "heatmap": [
           {
            "colorbar": {
             "outlinewidth": 0,
             "ticks": ""
            },
            "colorscale": [
             [
              0,
              "#0d0887"
             ],
             [
              0.1111111111111111,
              "#46039f"
             ],
             [
              0.2222222222222222,
              "#7201a8"
             ],
             [
              0.3333333333333333,
              "#9c179e"
             ],
             [
              0.4444444444444444,
              "#bd3786"
             ],
             [
              0.5555555555555556,
              "#d8576b"
             ],
             [
              0.6666666666666666,
              "#ed7953"
             ],
             [
              0.7777777777777778,
              "#fb9f3a"
             ],
             [
              0.8888888888888888,
              "#fdca26"
             ],
             [
              1,
              "#f0f921"
             ]
            ],
            "type": "heatmap"
           }
          ],
          "histogram": [
           {
            "marker": {
             "pattern": {
              "fillmode": "overlay",
              "size": 10,
              "solidity": 0.2
             }
            },
            "type": "histogram"
           }
          ],
          "histogram2d": [
           {
            "colorbar": {
             "outlinewidth": 0,
             "ticks": ""
            },
            "colorscale": [
             [
              0,
              "#0d0887"
             ],
             [
              0.1111111111111111,
              "#46039f"
             ],
             [
              0.2222222222222222,
              "#7201a8"
             ],
             [
              0.3333333333333333,
              "#9c179e"
             ],
             [
              0.4444444444444444,
              "#bd3786"
             ],
             [
              0.5555555555555556,
              "#d8576b"
             ],
             [
              0.6666666666666666,
              "#ed7953"
             ],
             [
              0.7777777777777778,
              "#fb9f3a"
             ],
             [
              0.8888888888888888,
              "#fdca26"
             ],
             [
              1,
              "#f0f921"
             ]
            ],
            "type": "histogram2d"
           }
          ],
          "histogram2dcontour": [
           {
            "colorbar": {
             "outlinewidth": 0,
             "ticks": ""
            },
            "colorscale": [
             [
              0,
              "#0d0887"
             ],
             [
              0.1111111111111111,
              "#46039f"
             ],
             [
              0.2222222222222222,
              "#7201a8"
             ],
             [
              0.3333333333333333,
              "#9c179e"
             ],
             [
              0.4444444444444444,
              "#bd3786"
             ],
             [
              0.5555555555555556,
              "#d8576b"
             ],
             [
              0.6666666666666666,
              "#ed7953"
             ],
             [
              0.7777777777777778,
              "#fb9f3a"
             ],
             [
              0.8888888888888888,
              "#fdca26"
             ],
             [
              1,
              "#f0f921"
             ]
            ],
            "type": "histogram2dcontour"
           }
          ],
          "mesh3d": [
           {
            "colorbar": {
             "outlinewidth": 0,
             "ticks": ""
            },
            "type": "mesh3d"
           }
          ],
          "parcoords": [
           {
            "line": {
             "colorbar": {
              "outlinewidth": 0,
              "ticks": ""
             }
            },
            "type": "parcoords"
           }
          ],
          "pie": [
           {
            "automargin": true,
            "type": "pie"
           }
          ],
          "scatter": [
           {
            "fillpattern": {
             "fillmode": "overlay",
             "size": 10,
             "solidity": 0.2
            },
            "type": "scatter"
           }
          ],
          "scatter3d": [
           {
            "line": {
             "colorbar": {
              "outlinewidth": 0,
              "ticks": ""
             }
            },
            "marker": {
             "colorbar": {
              "outlinewidth": 0,
              "ticks": ""
             }
            },
            "type": "scatter3d"
           }
          ],
          "scattercarpet": [
           {
            "marker": {
             "colorbar": {
              "outlinewidth": 0,
              "ticks": ""
             }
            },
            "type": "scattercarpet"
           }
          ],
          "scattergeo": [
           {
            "marker": {
             "colorbar": {
              "outlinewidth": 0,
              "ticks": ""
             }
            },
            "type": "scattergeo"
           }
          ],
          "scattergl": [
           {
            "marker": {
             "colorbar": {
              "outlinewidth": 0,
              "ticks": ""
             }
            },
            "type": "scattergl"
           }
          ],
          "scattermap": [
           {
            "marker": {
             "colorbar": {
              "outlinewidth": 0,
              "ticks": ""
             }
            },
            "type": "scattermap"
           }
          ],
          "scattermapbox": [
           {
            "marker": {
             "colorbar": {
              "outlinewidth": 0,
              "ticks": ""
             }
            },
            "type": "scattermapbox"
           }
          ],
          "scatterpolar": [
           {
            "marker": {
             "colorbar": {
              "outlinewidth": 0,
              "ticks": ""
             }
            },
            "type": "scatterpolar"
           }
          ],
          "scatterpolargl": [
           {
            "marker": {
             "colorbar": {
              "outlinewidth": 0,
              "ticks": ""
             }
            },
            "type": "scatterpolargl"
           }
          ],
          "scatterternary": [
           {
            "marker": {
             "colorbar": {
              "outlinewidth": 0,
              "ticks": ""
             }
            },
            "type": "scatterternary"
           }
          ],
          "surface": [
           {
            "colorbar": {
             "outlinewidth": 0,
             "ticks": ""
            },
            "colorscale": [
             [
              0,
              "#0d0887"
             ],
             [
              0.1111111111111111,
              "#46039f"
             ],
             [
              0.2222222222222222,
              "#7201a8"
             ],
             [
              0.3333333333333333,
              "#9c179e"
             ],
             [
              0.4444444444444444,
              "#bd3786"
             ],
             [
              0.5555555555555556,
              "#d8576b"
             ],
             [
              0.6666666666666666,
              "#ed7953"
             ],
             [
              0.7777777777777778,
              "#fb9f3a"
             ],
             [
              0.8888888888888888,
              "#fdca26"
             ],
             [
              1,
              "#f0f921"
             ]
            ],
            "type": "surface"
           }
          ],
          "table": [
           {
            "cells": {
             "fill": {
              "color": "#EBF0F8"
             },
             "line": {
              "color": "white"
             }
            },
            "header": {
             "fill": {
              "color": "#C8D4E3"
             },
             "line": {
              "color": "white"
             }
            },
            "type": "table"
           }
          ]
         },
         "layout": {
          "annotationdefaults": {
           "arrowcolor": "#2a3f5f",
           "arrowhead": 0,
           "arrowwidth": 1
          },
          "autotypenumbers": "strict",
          "coloraxis": {
           "colorbar": {
            "outlinewidth": 0,
            "ticks": ""
           }
          },
          "colorscale": {
           "diverging": [
            [
             0,
             "#8e0152"
            ],
            [
             0.1,
             "#c51b7d"
            ],
            [
             0.2,
             "#de77ae"
            ],
            [
             0.3,
             "#f1b6da"
            ],
            [
             0.4,
             "#fde0ef"
            ],
            [
             0.5,
             "#f7f7f7"
            ],
            [
             0.6,
             "#e6f5d0"
            ],
            [
             0.7,
             "#b8e186"
            ],
            [
             0.8,
             "#7fbc41"
            ],
            [
             0.9,
             "#4d9221"
            ],
            [
             1,
             "#276419"
            ]
           ],
           "sequential": [
            [
             0,
             "#0d0887"
            ],
            [
             0.1111111111111111,
             "#46039f"
            ],
            [
             0.2222222222222222,
             "#7201a8"
            ],
            [
             0.3333333333333333,
             "#9c179e"
            ],
            [
             0.4444444444444444,
             "#bd3786"
            ],
            [
             0.5555555555555556,
             "#d8576b"
            ],
            [
             0.6666666666666666,
             "#ed7953"
            ],
            [
             0.7777777777777778,
             "#fb9f3a"
            ],
            [
             0.8888888888888888,
             "#fdca26"
            ],
            [
             1,
             "#f0f921"
            ]
           ],
           "sequentialminus": [
            [
             0,
             "#0d0887"
            ],
            [
             0.1111111111111111,
             "#46039f"
            ],
            [
             0.2222222222222222,
             "#7201a8"
            ],
            [
             0.3333333333333333,
             "#9c179e"
            ],
            [
             0.4444444444444444,
             "#bd3786"
            ],
            [
             0.5555555555555556,
             "#d8576b"
            ],
            [
             0.6666666666666666,
             "#ed7953"
            ],
            [
             0.7777777777777778,
             "#fb9f3a"
            ],
            [
             0.8888888888888888,
             "#fdca26"
            ],
            [
             1,
             "#f0f921"
            ]
           ]
          },
          "colorway": [
           "#636efa",
           "#EF553B",
           "#00cc96",
           "#ab63fa",
           "#FFA15A",
           "#19d3f3",
           "#FF6692",
           "#B6E880",
           "#FF97FF",
           "#FECB52"
          ],
          "font": {
           "color": "#2a3f5f"
          },
          "geo": {
           "bgcolor": "white",
           "lakecolor": "white",
           "landcolor": "#E5ECF6",
           "showlakes": true,
           "showland": true,
           "subunitcolor": "white"
          },
          "hoverlabel": {
           "align": "left"
          },
          "hovermode": "closest",
          "mapbox": {
           "style": "light"
          },
          "paper_bgcolor": "white",
          "plot_bgcolor": "#E5ECF6",
          "polar": {
           "angularaxis": {
            "gridcolor": "white",
            "linecolor": "white",
            "ticks": ""
           },
           "bgcolor": "#E5ECF6",
           "radialaxis": {
            "gridcolor": "white",
            "linecolor": "white",
            "ticks": ""
           }
          },
          "scene": {
           "xaxis": {
            "backgroundcolor": "#E5ECF6",
            "gridcolor": "white",
            "gridwidth": 2,
            "linecolor": "white",
            "showbackground": true,
            "ticks": "",
            "zerolinecolor": "white"
           },
           "yaxis": {
            "backgroundcolor": "#E5ECF6",
            "gridcolor": "white",
            "gridwidth": 2,
            "linecolor": "white",
            "showbackground": true,
            "ticks": "",
            "zerolinecolor": "white"
           },
           "zaxis": {
            "backgroundcolor": "#E5ECF6",
            "gridcolor": "white",
            "gridwidth": 2,
            "linecolor": "white",
            "showbackground": true,
            "ticks": "",
            "zerolinecolor": "white"
           }
          },
          "shapedefaults": {
           "line": {
            "color": "#2a3f5f"
           }
          },
          "ternary": {
           "aaxis": {
            "gridcolor": "white",
            "linecolor": "white",
            "ticks": ""
           },
           "baxis": {
            "gridcolor": "white",
            "linecolor": "white",
            "ticks": ""
           },
           "bgcolor": "#E5ECF6",
           "caxis": {
            "gridcolor": "white",
            "linecolor": "white",
            "ticks": ""
           }
          },
          "title": {
           "x": 0.05
          },
          "xaxis": {
           "automargin": true,
           "gridcolor": "white",
           "linecolor": "white",
           "ticks": "",
           "title": {
            "standoff": 15
           },
           "zerolinecolor": "white",
           "zerolinewidth": 2
          },
          "yaxis": {
           "automargin": true,
           "gridcolor": "white",
           "linecolor": "white",
           "ticks": "",
           "title": {
            "standoff": 15
           },
           "zerolinecolor": "white",
           "zerolinewidth": 2
          }
         }
        },
        "title": {
         "text": "ROC Curve"
        },
        "xaxis": {
         "title": {
          "text": "False Positive Rate"
         }
        },
        "yaxis": {
         "title": {
          "text": "True Positive Rate"
         }
        }
       }
      }
     },
     "metadata": {},
     "output_type": "display_data"
    },
    {
     "data": {
      "application/vnd.plotly.v1+json": {
       "config": {
        "plotlyServerURL": "https://plot.ly"
       },
       "data": [
        {
         "mode": "lines",
         "name": "PR (AP=0.849)",
         "type": "scatter",
         "x": {
          "bdata": "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",
          "dtype": "f8"
         },
         "y": {
          "bdata": "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",
          "dtype": "f8"
         }
        },
        {
         "line": {
          "dash": "dash"
         },
         "mode": "lines",
         "name": "Baseline (pos rate=0.650)",
         "type": "scatter",
         "x": [
          0,
          1
         ],
         "y": [
          0.65,
          0.65
         ]
        }
       ],
       "layout": {
        "template": {
         "data": {
          "bar": [
           {
            "error_x": {
             "color": "#2a3f5f"
            },
            "error_y": {
             "color": "#2a3f5f"
            },
            "marker": {
             "line": {
              "color": "#E5ECF6",
              "width": 0.5
             },
             "pattern": {
              "fillmode": "overlay",
              "size": 10,
              "solidity": 0.2
             }
            },
            "type": "bar"
           }
          ],
          "barpolar": [
           {
            "marker": {
             "line": {
              "color": "#E5ECF6",
              "width": 0.5
             },
             "pattern": {
              "fillmode": "overlay",
              "size": 10,
              "solidity": 0.2
             }
            },
            "type": "barpolar"
           }
          ],
          "carpet": [
           {
            "aaxis": {
             "endlinecolor": "#2a3f5f",
             "gridcolor": "white",
             "linecolor": "white",
             "minorgridcolor": "white",
             "startlinecolor": "#2a3f5f"
            },
            "baxis": {
             "endlinecolor": "#2a3f5f",
             "gridcolor": "white",
             "linecolor": "white",
             "minorgridcolor": "white",
             "startlinecolor": "#2a3f5f"
            },
            "type": "carpet"
           }
          ],
          "choropleth": [
           {
            "colorbar": {
             "outlinewidth": 0,
             "ticks": ""
            },
            "type": "choropleth"
           }
          ],
          "contour": [
           {
            "colorbar": {
             "outlinewidth": 0,
             "ticks": ""
            },
            "colorscale": [
             [
              0,
              "#0d0887"
             ],
             [
              0.1111111111111111,
              "#46039f"
             ],
             [
              0.2222222222222222,
              "#7201a8"
             ],
             [
              0.3333333333333333,
              "#9c179e"
             ],
             [
              0.4444444444444444,
              "#bd3786"
             ],
             [
              0.5555555555555556,
              "#d8576b"
             ],
             [
              0.6666666666666666,
              "#ed7953"
             ],
             [
              0.7777777777777778,
              "#fb9f3a"
             ],
             [
              0.8888888888888888,
              "#fdca26"
             ],
             [
              1,
              "#f0f921"
             ]
            ],
            "type": "contour"
           }
          ],
          "contourcarpet": [
           {
            "colorbar": {
             "outlinewidth": 0,
             "ticks": ""
            },
            "type": "contourcarpet"
           }
          ],
          "heatmap": [
           {
            "colorbar": {
             "outlinewidth": 0,
             "ticks": ""
            },
            "colorscale": [
             [
              0,
              "#0d0887"
             ],
             [
              0.1111111111111111,
              "#46039f"
             ],
             [
              0.2222222222222222,
              "#7201a8"
             ],
             [
              0.3333333333333333,
              "#9c179e"
             ],
             [
              0.4444444444444444,
              "#bd3786"
             ],
             [
              0.5555555555555556,
              "#d8576b"
             ],
             [
              0.6666666666666666,
              "#ed7953"
             ],
             [
              0.7777777777777778,
              "#fb9f3a"
             ],
             [
              0.8888888888888888,
              "#fdca26"
             ],
             [
              1,
              "#f0f921"
             ]
            ],
            "type": "heatmap"
           }
          ],
          "histogram": [
           {
            "marker": {
             "pattern": {
              "fillmode": "overlay",
              "size": 10,
              "solidity": 0.2
             }
            },
            "type": "histogram"
           }
          ],
          "histogram2d": [
           {
            "colorbar": {
             "outlinewidth": 0,
             "ticks": ""
            },
            "colorscale": [
             [
              0,
              "#0d0887"
             ],
             [
              0.1111111111111111,
              "#46039f"
             ],
             [
              0.2222222222222222,
              "#7201a8"
             ],
             [
              0.3333333333333333,
              "#9c179e"
             ],
             [
              0.4444444444444444,
              "#bd3786"
             ],
             [
              0.5555555555555556,
              "#d8576b"
             ],
             [
              0.6666666666666666,
              "#ed7953"
             ],
             [
              0.7777777777777778,
              "#fb9f3a"
             ],
             [
              0.8888888888888888,
              "#fdca26"
             ],
             [
              1,
              "#f0f921"
             ]
            ],
            "type": "histogram2d"
           }
          ],
          "histogram2dcontour": [
           {
            "colorbar": {
             "outlinewidth": 0,
             "ticks": ""
            },
            "colorscale": [
             [
              0,
              "#0d0887"
             ],
             [
              0.1111111111111111,
              "#46039f"
             ],
             [
              0.2222222222222222,
              "#7201a8"
             ],
             [
              0.3333333333333333,
              "#9c179e"
             ],
             [
              0.4444444444444444,
              "#bd3786"
             ],
             [
              0.5555555555555556,
              "#d8576b"
             ],
             [
              0.6666666666666666,
              "#ed7953"
             ],
             [
              0.7777777777777778,
              "#fb9f3a"
             ],
             [
              0.8888888888888888,
              "#fdca26"
             ],
             [
              1,
              "#f0f921"
             ]
            ],
            "type": "histogram2dcontour"
           }
          ],
          "mesh3d": [
           {
            "colorbar": {
             "outlinewidth": 0,
             "ticks": ""
            },
            "type": "mesh3d"
           }
          ],
          "parcoords": [
           {
            "line": {
             "colorbar": {
              "outlinewidth": 0,
              "ticks": ""
             }
            },
            "type": "parcoords"
           }
          ],
          "pie": [
           {
            "automargin": true,
            "type": "pie"
           }
          ],
          "scatter": [
           {
            "fillpattern": {
             "fillmode": "overlay",
             "size": 10,
             "solidity": 0.2
            },
            "type": "scatter"
           }
          ],
          "scatter3d": [
           {
            "line": {
             "colorbar": {
              "outlinewidth": 0,
              "ticks": ""
             }
            },
            "marker": {
             "colorbar": {
              "outlinewidth": 0,
              "ticks": ""
             }
            },
            "type": "scatter3d"
           }
          ],
          "scattercarpet": [
           {
            "marker": {
             "colorbar": {
              "outlinewidth": 0,
              "ticks": ""
             }
            },
            "type": "scattercarpet"
           }
          ],
          "scattergeo": [
           {
            "marker": {
             "colorbar": {
              "outlinewidth": 0,
              "ticks": ""
             }
            },
            "type": "scattergeo"
           }
          ],
          "scattergl": [
           {
            "marker": {
             "colorbar": {
              "outlinewidth": 0,
              "ticks": ""
             }
            },
            "type": "scattergl"
           }
          ],
          "scattermap": [
           {
            "marker": {
             "colorbar": {
              "outlinewidth": 0,
              "ticks": ""
             }
            },
            "type": "scattermap"
           }
          ],
          "scattermapbox": [
           {
            "marker": {
             "colorbar": {
              "outlinewidth": 0,
              "ticks": ""
             }
            },
            "type": "scattermapbox"
           }
          ],
          "scatterpolar": [
           {
            "marker": {
             "colorbar": {
              "outlinewidth": 0,
              "ticks": ""
             }
            },
            "type": "scatterpolar"
           }
          ],
          "scatterpolargl": [
           {
            "marker": {
             "colorbar": {
              "outlinewidth": 0,
              "ticks": ""
             }
            },
            "type": "scatterpolargl"
           }
          ],
          "scatterternary": [
           {
            "marker": {
             "colorbar": {
              "outlinewidth": 0,
              "ticks": ""
             }
            },
            "type": "scatterternary"
           }
          ],
          "surface": [
           {
            "colorbar": {
             "outlinewidth": 0,
             "ticks": ""
            },
            "colorscale": [
             [
              0,
              "#0d0887"
             ],
             [
              0.1111111111111111,
              "#46039f"
             ],
             [
              0.2222222222222222,
              "#7201a8"
             ],
             [
              0.3333333333333333,
              "#9c179e"
             ],
             [
              0.4444444444444444,
              "#bd3786"
             ],
             [
              0.5555555555555556,
              "#d8576b"
             ],
             [
              0.6666666666666666,
              "#ed7953"
             ],
             [
              0.7777777777777778,
              "#fb9f3a"
             ],
             [
              0.8888888888888888,
              "#fdca26"
             ],
             [
              1,
              "#f0f921"
             ]
            ],
            "type": "surface"
           }
          ],
          "table": [
           {
            "cells": {
             "fill": {
              "color": "#EBF0F8"
             },
             "line": {
              "color": "white"
             }
            },
            "header": {
             "fill": {
              "color": "#C8D4E3"
             },
             "line": {
              "color": "white"
             }
            },
            "type": "table"
           }
          ]
         },
         "layout": {
          "annotationdefaults": {
           "arrowcolor": "#2a3f5f",
           "arrowhead": 0,
           "arrowwidth": 1
          },
          "autotypenumbers": "strict",
          "coloraxis": {
           "colorbar": {
            "outlinewidth": 0,
            "ticks": ""
           }
          },
          "colorscale": {
           "diverging": [
            [
             0,
             "#8e0152"
            ],
            [
             0.1,
             "#c51b7d"
            ],
            [
             0.2,
             "#de77ae"
            ],
            [
             0.3,
             "#f1b6da"
            ],
            [
             0.4,
             "#fde0ef"
            ],
            [
             0.5,
             "#f7f7f7"
            ],
            [
             0.6,
             "#e6f5d0"
            ],
            [
             0.7,
             "#b8e186"
            ],
            [
             0.8,
             "#7fbc41"
            ],
            [
             0.9,
             "#4d9221"
            ],
            [
             1,
             "#276419"
            ]
           ],
           "sequential": [
            [
             0,
             "#0d0887"
            ],
            [
             0.1111111111111111,
             "#46039f"
            ],
            [
             0.2222222222222222,
             "#7201a8"
            ],
            [
             0.3333333333333333,
             "#9c179e"
            ],
            [
             0.4444444444444444,
             "#bd3786"
            ],
            [
             0.5555555555555556,
             "#d8576b"
            ],
            [
             0.6666666666666666,
             "#ed7953"
            ],
            [
             0.7777777777777778,
             "#fb9f3a"
            ],
            [
             0.8888888888888888,
             "#fdca26"
            ],
            [
             1,
             "#f0f921"
            ]
           ],
           "sequentialminus": [
            [
             0,
             "#0d0887"
            ],
            [
             0.1111111111111111,
             "#46039f"
            ],
            [
             0.2222222222222222,
             "#7201a8"
            ],
            [
             0.3333333333333333,
             "#9c179e"
            ],
            [
             0.4444444444444444,
             "#bd3786"
            ],
            [
             0.5555555555555556,
             "#d8576b"
            ],
            [
             0.6666666666666666,
             "#ed7953"
            ],
            [
             0.7777777777777778,
             "#fb9f3a"
            ],
            [
             0.8888888888888888,
             "#fdca26"
            ],
            [
             1,
             "#f0f921"
            ]
           ]
          },
          "colorway": [
           "#636efa",
           "#EF553B",
           "#00cc96",
           "#ab63fa",
           "#FFA15A",
           "#19d3f3",
           "#FF6692",
           "#B6E880",
           "#FF97FF",
           "#FECB52"
          ],
          "font": {
           "color": "#2a3f5f"
          },
          "geo": {
           "bgcolor": "white",
           "lakecolor": "white",
           "landcolor": "#E5ECF6",
           "showlakes": true,
           "showland": true,
           "subunitcolor": "white"
          },
          "hoverlabel": {
           "align": "left"
          },
          "hovermode": "closest",
          "mapbox": {
           "style": "light"
          },
          "paper_bgcolor": "white",
          "plot_bgcolor": "#E5ECF6",
          "polar": {
           "angularaxis": {
            "gridcolor": "white",
            "linecolor": "white",
            "ticks": ""
           },
           "bgcolor": "#E5ECF6",
           "radialaxis": {
            "gridcolor": "white",
            "linecolor": "white",
            "ticks": ""
           }
          },
          "scene": {
           "xaxis": {
            "backgroundcolor": "#E5ECF6",
            "gridcolor": "white",
            "gridwidth": 2,
            "linecolor": "white",
            "showbackground": true,
            "ticks": "",
            "zerolinecolor": "white"
           },
           "yaxis": {
            "backgroundcolor": "#E5ECF6",
            "gridcolor": "white",
            "gridwidth": 2,
            "linecolor": "white",
            "showbackground": true,
            "ticks": "",
            "zerolinecolor": "white"
           },
           "zaxis": {
            "backgroundcolor": "#E5ECF6",
            "gridcolor": "white",
            "gridwidth": 2,
            "linecolor": "white",
            "showbackground": true,
            "ticks": "",
            "zerolinecolor": "white"
           }
          },
          "shapedefaults": {
           "line": {
            "color": "#2a3f5f"
           }
          },
          "ternary": {
           "aaxis": {
            "gridcolor": "white",
            "linecolor": "white",
            "ticks": ""
           },
           "baxis": {
            "gridcolor": "white",
            "linecolor": "white",
            "ticks": ""
           },
           "bgcolor": "#E5ECF6",
           "caxis": {
            "gridcolor": "white",
            "linecolor": "white",
            "ticks": ""
           }
          },
          "title": {
           "x": 0.05
          },
          "xaxis": {
           "automargin": true,
           "gridcolor": "white",
           "linecolor": "white",
           "ticks": "",
           "title": {
            "standoff": 15
           },
           "zerolinecolor": "white",
           "zerolinewidth": 2
          },
          "yaxis": {
           "automargin": true,
           "gridcolor": "white",
           "linecolor": "white",
           "ticks": "",
           "title": {
            "standoff": 15
           },
           "zerolinecolor": "white",
           "zerolinewidth": 2
          }
         }
        },
        "title": {
         "text": "Precision–Recall Curve"
        },
        "xaxis": {
         "range": [
          0,
          1
         ],
         "title": {
          "text": "Recall"
         }
        },
        "yaxis": {
         "range": [
          0,
          1
         ],
         "title": {
          "text": "Precision"
         }
        }
       }
      }
     },
     "metadata": {},
     "output_type": "display_data"
    }
   ],
   "source": [
    "import pandas as pd\n",
    "\n",
    "# --- 1) Predictions ---\n",
    "# Probabilities for positive class\n",
    "y_proba = best_model.predict_proba(X_test)[:, 1]\n",
    "# Class predictions at threshold 0.5 (adjust if you want)\n",
    "y_pred = (y_proba >= 0.5).astype(int)\n",
    "\n",
    "# --- 2) Confusion Matrix ---\n",
    "from plotly import graph_objects as go\n",
    "import plotly.express as px\n",
    "\n",
    "cm = confusion_matrix(y_test, y_pred, labels=[0, 1])\n",
    "cm_df = pd.DataFrame(cm, index=[\"Actual 0\", \"Actual 1\"], columns=[\"Pred 0\", \"Pred 1\"])\n",
    "\n",
    "fig_cm = px.imshow(\n",
    "    cm_df.values,\n",
    "    x=cm_df.columns,\n",
    "    y=cm_df.index,\n",
    "    text_auto=True,\n",
    "    color_continuous_scale=\"Blues\",\n",
    "    aspect=\"equal\",\n",
    "    title=\"Confusion Matrix (threshold = 0.5)\",\n",
    ")\n",
    "fig_cm.update_layout(coloraxis_showscale=False)\n",
    "fig_cm.show()\n",
    "\n",
    "# --- 3) ROC Curve + AUC ---\n",
    "fpr, tpr, _ = roc_curve(y_test, y_proba)\n",
    "roc_auc = roc_auc_score(y_test, y_proba)\n",
    "\n",
    "fig_roc = go.Figure()\n",
    "fig_roc.add_trace(\n",
    "    go.Scatter(x=fpr, y=tpr, mode=\"lines\", name=f\"ROC (AUC={roc_auc:.3f})\")\n",
    ")\n",
    "fig_roc.add_trace(\n",
    "    go.Scatter(x=[0, 1], y=[0, 1], mode=\"lines\", name=\"Chance\", line=dict(dash=\"dash\"))\n",
    ")\n",
    "fig_roc.update_layout(\n",
    "    title=\"ROC Curve\",\n",
    "    xaxis_title=\"False Positive Rate\",\n",
    "    yaxis_title=\"True Positive Rate\",\n",
    "    yaxis=dict(scaleanchor=None, scaleratio=None),\n",
    ")\n",
    "fig_roc.show()\n",
    "\n",
    "# --- 4) Precision-Recall Curve + PRAUC (Average Precision) ---\n",
    "prec, rec, _ = precision_recall_curve(y_test, y_proba)\n",
    "ap = average_precision_score(y_test, y_proba)\n",
    "pos_rate = np.mean(y_test)  # baseline for PR curve\n",
    "\n",
    "fig_pr = go.Figure()\n",
    "fig_pr.add_trace(go.Scatter(x=rec, y=prec, mode=\"lines\", name=f\"PR (AP={ap:.3f})\"))\n",
    "fig_pr.add_trace(\n",
    "    go.Scatter(\n",
    "        x=[0, 1],\n",
    "        y=[pos_rate, pos_rate],\n",
    "        mode=\"lines\",\n",
    "        name=f\"Baseline (pos rate={pos_rate:.3f})\",\n",
    "        line=dict(dash=\"dash\"),\n",
    "    )\n",
    ")\n",
    "fig_pr.update_layout(\n",
    "    title=\"Precision–Recall Curve\",\n",
    "    xaxis_title=\"Recall\",\n",
    "    yaxis_title=\"Precision\",\n",
    "    yaxis=dict(range=[0, 1]),\n",
    "    xaxis=dict(range=[0, 1]),\n",
    ")\n",
    "fig_pr.show()\n"
   ]
  },
  {
   "cell_type": "code",
   "execution_count": 18,
   "id": "6b8050ee",
   "metadata": {},
   "outputs": [
    {
     "data": {
      "image/png": "[encoded data removed]",
      "text/plain": [
       "<Figure size 800x950 with 2 Axes>"
      ]
     },
     "metadata": {},
     "output_type": "display_data"
    },
    {
     "data": {
      "application/vnd.plotly.v1+json": {
       "config": {
        "plotlyServerURL": "https://plot.ly"
       },
       "data": [
        {
         "hovertemplate": "importance=%{x}<br>feature=%{y}<extra></extra>",
         "legendgroup": "",
         "marker": {
          "color": "#636efa",
          "pattern": {
           "shape": ""
          }
         },
         "name": "",
         "orientation": "h",
         "showlegend": false,
         "textposition": "auto",
         "type": "bar",
         "x": {
          "bdata": "yPYlPxjhFj5XgAg+PjwEPm2U8T2cyuU9Oy3jPVnf3D1Vm9Y9R3DVPRIN1T0jA709xKqxPcaZqj36N6o9dfCpPSavpj2jGaE9A92ePRBImT24JZU9C2eLPUl1hT3HBH89",
          "dtype": "f4"
         },
         "xaxis": "x",
         "y": [
          "num__age",
          "cat__device_type_Mobile",
          "cat__browsing_history_Unknown",
          "cat__ad_position_Bottom",
          "cat__gender_Unknown",
          "cat__ad_position_Side",
          "cat__time_of_day_Night",
          "cat__device_type_Desktop",
          "cat__time_of_day_Afternoon",
          "cat__device_type_Tablet",
          "cat__time_of_day_Evening",
          "cat__ad_position_Top",
          "cat__time_of_day_Morning",
          "cat__gender_Female",
          "cat__browsing_history_Shopping",
          "cat__ad_position_Unknown",
          "cat__browsing_history_Social Media",
          "cat__gender_Non-Binary",
          "cat__time_of_day_Unknown",
          "cat__browsing_history_News",
          "cat__gender_Male",
          "cat__browsing_history_Entertainment",
          "cat__device_type_Unknown",
          "cat__browsing_history_Education"
         ],
         "yaxis": "y"
        }
       ],
       "layout": {
        "barmode": "relative",
        "height": 600,
        "legend": {
         "tracegroupgap": 0
        },
        "template": {
         "data": {
          "bar": [
           {
            "error_x": {
             "color": "#2a3f5f"
            },
            "error_y": {
             "color": "#2a3f5f"
            },
            "marker": {
             "line": {
              "color": "#E5ECF6",
              "width": 0.5
             },
             "pattern": {
              "fillmode": "overlay",
              "size": 10,
              "solidity": 0.2
             }
            },
            "type": "bar"
           }
          ],
          "barpolar": [
           {
            "marker": {
             "line": {
              "color": "#E5ECF6",
              "width": 0.5
             },
             "pattern": {
              "fillmode": "overlay",
              "size": 10,
              "solidity": 0.2
             }
            },
            "type": "barpolar"
           }
          ],
          "carpet": [
           {
            "aaxis": {
             "endlinecolor": "#2a3f5f",
             "gridcolor": "white",
             "linecolor": "white",
             "minorgridcolor": "white",
             "startlinecolor": "#2a3f5f"
            },
            "baxis": {
             "endlinecolor": "#2a3f5f",
             "gridcolor": "white",
             "linecolor": "white",
             "minorgridcolor": "white",
             "startlinecolor": "#2a3f5f"
            },
            "type": "carpet"
           }
          ],
          "choropleth": [
           {
            "colorbar": {
             "outlinewidth": 0,
             "ticks": ""
            },
            "type": "choropleth"
           }
          ],
          "contour": [
           {
            "colorbar": {
             "outlinewidth": 0,
             "ticks": ""
            },
            "colorscale": [
             [
              0,
              "#0d0887"
             ],
             [
              0.1111111111111111,
              "#46039f"
             ],
             [
              0.2222222222222222,
              "#7201a8"
             ],
             [
              0.3333333333333333,
              "#9c179e"
             ],
             [
              0.4444444444444444,
              "#bd3786"
             ],
             [
              0.5555555555555556,
              "#d8576b"
             ],
             [
              0.6666666666666666,
              "#ed7953"
             ],
             [
              0.7777777777777778,
              "#fb9f3a"
             ],
             [
              0.8888888888888888,
              "#fdca26"
             ],
             [
              1,
              "#f0f921"
             ]
            ],
            "type": "contour"
           }
          ],
          "contourcarpet": [
           {
            "colorbar": {
             "outlinewidth": 0,
             "ticks": ""
            },
            "type": "contourcarpet"
           }
          ],
          "heatmap": [
           {
            "colorbar": {
             "outlinewidth": 0,
             "ticks": ""
            },
            "colorscale": [
             [
              0,
              "#0d0887"
             ],
             [
              0.1111111111111111,
              "#46039f"
             ],
             [
              0.2222222222222222,
              "#7201a8"
             ],
             [
              0.3333333333333333,
              "#9c179e"
             ],
             [
              0.4444444444444444,
              "#bd3786"
             ],
             [
              0.5555555555555556,
              "#d8576b"
             ],
             [
              0.6666666666666666,
              "#ed7953"
             ],
             [
              0.7777777777777778,
              "#fb9f3a"
             ],
             [
              0.8888888888888888,
              "#fdca26"
             ],
             [
              1,
              "#f0f921"
             ]
            ],
            "type": "heatmap"
           }
          ],
          "histogram": [
           {
            "marker": {
             "pattern": {
              "fillmode": "overlay",
              "size": 10,
              "solidity": 0.2
             }
            },
            "type": "histogram"
           }
          ],
          "histogram2d": [
           {
            "colorbar": {
             "outlinewidth": 0,
             "ticks": ""
            },
            "colorscale": [
             [
              0,
              "#0d0887"
             ],
             [
              0.1111111111111111,
              "#46039f"
             ],
             [
              0.2222222222222222,
              "#7201a8"
             ],
             [
              0.3333333333333333,
              "#9c179e"
             ],
             [
              0.4444444444444444,
              "#bd3786"
             ],
             [
              0.5555555555555556,
              "#d8576b"
             ],
             [
              0.6666666666666666,
              "#ed7953"
             ],
             [
              0.7777777777777778,
              "#fb9f3a"
             ],
             [
              0.8888888888888888,
              "#fdca26"
             ],
             [
              1,
              "#f0f921"
             ]
            ],
            "type": "histogram2d"
           }
          ],
          "histogram2dcontour": [
           {
            "colorbar": {
             "outlinewidth": 0,
             "ticks": ""
            },
            "colorscale": [
             [
              0,
              "#0d0887"
             ],
             [
              0.1111111111111111,
              "#46039f"
             ],
             [
              0.2222222222222222,
              "#7201a8"
             ],
             [
              0.3333333333333333,
              "#9c179e"
             ],
             [
              0.4444444444444444,
              "#bd3786"
             ],
             [
              0.5555555555555556,
              "#d8576b"
             ],
             [
              0.6666666666666666,
              "#ed7953"
             ],
             [
              0.7777777777777778,
              "#fb9f3a"
             ],
             [
              0.8888888888888888,
              "#fdca26"
             ],
             [
              1,
              "#f0f921"
             ]
            ],
            "type": "histogram2dcontour"
           }
          ],
          "mesh3d": [
           {
            "colorbar": {
             "outlinewidth": 0,
             "ticks": ""
            },
            "type": "mesh3d"
           }
          ],
          "parcoords": [
           {
            "line": {
             "colorbar": {
              "outlinewidth": 0,
              "ticks": ""
             }
            },
            "type": "parcoords"
           }
          ],
          "pie": [
           {
            "automargin": true,
            "type": "pie"
           }
          ],
          "scatter": [
           {
            "fillpattern": {
             "fillmode": "overlay",
             "size": 10,
             "solidity": 0.2
            },
            "type": "scatter"
           }
          ],
          "scatter3d": [
           {
            "line": {
             "colorbar": {
              "outlinewidth": 0,
              "ticks": ""
             }
            },
            "marker": {
             "colorbar": {
              "outlinewidth": 0,
              "ticks": ""
             }
            },
            "type": "scatter3d"
           }
          ],
          "scattercarpet": [
           {
            "marker": {
             "colorbar": {
              "outlinewidth": 0,
              "ticks": ""
             }
            },
            "type": "scattercarpet"
           }
          ],
          "scattergeo": [
           {
            "marker": {
             "colorbar": {
              "outlinewidth": 0,
              "ticks": ""
             }
            },
            "type": "scattergeo"
           }
          ],
          "scattergl": [
           {
            "marker": {
             "colorbar": {
              "outlinewidth": 0,
              "ticks": ""
             }
            },
            "type": "scattergl"
           }
          ],
          "scattermap": [
           {
            "marker": {
             "colorbar": {
              "outlinewidth": 0,
              "ticks": ""
             }
            },
            "type": "scattermap"
           }
          ],
          "scattermapbox": [
           {
            "marker": {
             "colorbar": {
              "outlinewidth": 0,
              "ticks": ""
             }
            },
            "type": "scattermapbox"
           }
          ],
          "scatterpolar": [
           {
            "marker": {
             "colorbar": {
              "outlinewidth": 0,
              "ticks": ""
             }
            },
            "type": "scatterpolar"
           }
          ],
          "scatterpolargl": [
           {
            "marker": {
             "colorbar": {
              "outlinewidth": 0,
              "ticks": ""
             }
            },
            "type": "scatterpolargl"
           }
          ],
          "scatterternary": [
           {
            "marker": {
             "colorbar": {
              "outlinewidth": 0,
              "ticks": ""
             }
            },
            "type": "scatterternary"
           }
          ],
          "surface": [
           {
            "colorbar": {
             "outlinewidth": 0,
             "ticks": ""
            },
            "colorscale": [
             [
              0,
              "#0d0887"
             ],
             [
              0.1111111111111111,
              "#46039f"
             ],
             [
              0.2222222222222222,
              "#7201a8"
             ],
             [
              0.3333333333333333,
              "#9c179e"
             ],
             [
              0.4444444444444444,
              "#bd3786"
             ],
             [
              0.5555555555555556,
              "#d8576b"
             ],
             [
              0.6666666666666666,
              "#ed7953"
             ],
             [
              0.7777777777777778,
              "#fb9f3a"
             ],
             [
              0.8888888888888888,
              "#fdca26"
             ],
             [
              1,
              "#f0f921"
             ]
            ],
            "type": "surface"
           }
          ],
          "table": [
           {
            "cells": {
             "fill": {
              "color": "#EBF0F8"
             },
             "line": {
              "color": "white"
             }
            },
            "header": {
             "fill": {
              "color": "#C8D4E3"
             },
             "line": {
              "color": "white"
             }
            },
            "type": "table"
           }
          ]
         },
         "layout": {
          "annotationdefaults": {
           "arrowcolor": "#2a3f5f",
           "arrowhead": 0,
           "arrowwidth": 1
          },
          "autotypenumbers": "strict",
          "coloraxis": {
           "colorbar": {
            "outlinewidth": 0,
            "ticks": ""
           }
          },
          "colorscale": {
           "diverging": [
            [
             0,
             "#8e0152"
            ],
            [
             0.1,
             "#c51b7d"
            ],
            [
             0.2,
             "#de77ae"
            ],
            [
             0.3,
             "#f1b6da"
            ],
            [
             0.4,
             "#fde0ef"
            ],
            [
             0.5,
             "#f7f7f7"
            ],
            [
             0.6,
             "#e6f5d0"
            ],
            [
             0.7,
             "#b8e186"
            ],
            [
             0.8,
             "#7fbc41"
            ],
            [
             0.9,
             "#4d9221"
            ],
            [
             1,
             "#276419"
            ]
           ],
           "sequential": [
            [
             0,
             "#0d0887"
            ],
            [
             0.1111111111111111,
             "#46039f"
            ],
            [
             0.2222222222222222,
             "#7201a8"
            ],
            [
             0.3333333333333333,
             "#9c179e"
            ],
            [
             0.4444444444444444,
             "#bd3786"
            ],
            [
             0.5555555555555556,
             "#d8576b"
            ],
            [
             0.6666666666666666,
             "#ed7953"
            ],
            [
             0.7777777777777778,
             "#fb9f3a"
            ],
            [
             0.8888888888888888,
             "#fdca26"
            ],
            [
             1,
             "#f0f921"
            ]
           ],
           "sequentialminus": [
            [
             0,
             "#0d0887"
            ],
            [
             0.1111111111111111,
             "#46039f"
            ],
            [
             0.2222222222222222,
             "#7201a8"
            ],
            [
             0.3333333333333333,
             "#9c179e"
            ],
            [
             0.4444444444444444,
             "#bd3786"
            ],
            [
             0.5555555555555556,
             "#d8576b"
            ],
            [
             0.6666666666666666,
             "#ed7953"
            ],
            [
             0.7777777777777778,
             "#fb9f3a"
            ],
            [
             0.8888888888888888,
             "#fdca26"
            ],
            [
             1,
             "#f0f921"
            ]
           ]
          },
          "colorway": [
           "#636efa",
           "#EF553B",
           "#00cc96",
           "#ab63fa",
           "#FFA15A",
           "#19d3f3",
           "#FF6692",
           "#B6E880",
           "#FF97FF",
           "#FECB52"
          ],
          "font": {
           "color": "#2a3f5f"
          },
          "geo": {
           "bgcolor": "white",
           "lakecolor": "white",
           "landcolor": "#E5ECF6",
           "showlakes": true,
           "showland": true,
           "subunitcolor": "white"
          },
          "hoverlabel": {
           "align": "left"
          },
          "hovermode": "closest",
          "mapbox": {
           "style": "light"
          },
          "paper_bgcolor": "white",
          "plot_bgcolor": "#E5ECF6",
          "polar": {
           "angularaxis": {
            "gridcolor": "white",
            "linecolor": "white",
            "ticks": ""
           },
           "bgcolor": "#E5ECF6",
           "radialaxis": {
            "gridcolor": "white",
            "linecolor": "white",
            "ticks": ""
           }
          },
          "scene": {
           "xaxis": {
            "backgroundcolor": "#E5ECF6",
            "gridcolor": "white",
            "gridwidth": 2,
            "linecolor": "white",
            "showbackground": true,
            "ticks": "",
            "zerolinecolor": "white"
           },
           "yaxis": {
            "backgroundcolor": "#E5ECF6",
            "gridcolor": "white",
            "gridwidth": 2,
            "linecolor": "white",
            "showbackground": true,
            "ticks": "",
            "zerolinecolor": "white"
           },
           "zaxis": {
            "backgroundcolor": "#E5ECF6",
            "gridcolor": "white",
            "gridwidth": 2,
            "linecolor": "white",
            "showbackground": true,
            "ticks": "",
            "zerolinecolor": "white"
           }
          },
          "shapedefaults": {
           "line": {
            "color": "#2a3f5f"
           }
          },
          "ternary": {
           "aaxis": {
            "gridcolor": "white",
            "linecolor": "white",
            "ticks": ""
           },
           "baxis": {
            "gridcolor": "white",
            "linecolor": "white",
            "ticks": ""
           },
           "bgcolor": "#E5ECF6",
           "caxis": {
            "gridcolor": "white",
            "linecolor": "white",
            "ticks": ""
           }
          },
          "title": {
           "x": 0.05
          },
          "xaxis": {
           "automargin": true,
           "gridcolor": "white",
           "linecolor": "white",
           "ticks": "",
           "title": {
            "standoff": 15
           },
           "zerolinecolor": "white",
           "zerolinewidth": 2
          },
          "yaxis": {
           "automargin": true,
           "gridcolor": "white",
           "linecolor": "white",
           "ticks": "",
           "title": {
            "standoff": 15
           },
           "zerolinecolor": "white",
           "zerolinewidth": 2
          }
         }
        },
        "title": {
         "text": "SHAP Feature Importance"
        },
        "xaxis": {
         "anchor": "y",
         "domain": [
          0,
          1
         ],
         "title": {
          "text": "importance"
         }
        },
        "yaxis": {
         "anchor": "x",
         "domain": [
          0,
          1
         ],
         "title": {
          "text": "feature"
         }
        }
       }
      }
     },
     "metadata": {},
     "output_type": "display_data"
    }
   ],
   "source": [
    "feature_names = preprocessor.get_feature_names_out()\n",
    "# Wrap back into DataFrames\n",
    "import pandas as pd\n",
    "\n",
    "X_train_df = pd.DataFrame(X_train.toarray() if hasattr(X_train, \"toarray\") else X_train,\n",
    "                          columns=feature_names)\n",
    "X_val_df   = pd.DataFrame(X_val.toarray() if hasattr(X_val, \"toarray\") else X_val,\n",
    "                          columns=feature_names)\n",
    "X_test_df  = pd.DataFrame(X_test.toarray() if hasattr(X_test, \"toarray\") else X_test,\n",
    "                           columns=feature_names)\n",
    "\n",
    "import shap\n",
    "import xgboost as xgb\n",
    "import matplotlib.pyplot as plt\n",
    "\n",
    "# Assuming your trained model is called `best_model` (from GridSearchCV)\n",
    "# And your training data is X_train_df (with column names)\n",
    "\n",
    "# Convert to DMatrix (if not already)\n",
    "dtrain = xgb.DMatrix(X_train, label=y_train, feature_names=X_train_df.columns.tolist())\n",
    "\n",
    "# Create SHAP explainer\n",
    "explainer = shap.TreeExplainer(grid_search.best_estimator_)\n",
    "shap_values = explainer.shap_values(X_train)\n",
    "\n",
    "# --- 1. Summary plot (beeswarm)\n",
    "shap.summary_plot(shap_values, X_train_df, plot_type=\"dot\")\n",
    "\n",
    "import pandas as pd\n",
    "import plotly.express as px\n",
    "import numpy as np\n",
    "\n",
    "# Mean absolute SHAP value for each feature\n",
    "feature_importance = pd.DataFrame({\n",
    "    \"feature\": X_train_df.columns,\n",
    "    \"importance\": np.abs(shap_values).mean(axis=0)\n",
    "}).sort_values(\"importance\", ascending=False)\n",
    "\n",
    "fig = px.bar(feature_importance, x=\"importance\", y=\"feature\", orientation=\"h\",\n",
    "             title=\"SHAP Feature Importance\", height=600)\n",
    "fig.show()\n",
    "\n"
   ]
  },
  {
   "cell_type": "code",
   "execution_count": null,
   "id": "7a1fcb02",
   "metadata": {},
   "outputs": [],
   "source": []
  }
 ],
 "metadata": {
  "kernelspec": {
   "display_name": ".venv",
   "language": "python",
   "name": "python3"
  },
  "language_info": {
   "codemirror_mode": {
    "name": "ipython",
    "version": 3
   },
   "file_extension": ".py",
   "mimetype": "text/x-python",
   "name": "python",
   "nbconvert_exporter": "python",
   "pygments_lexer": "ipython3",
   "version": "3.12.3"
  }
 },
 "nbformat": 4,
 "nbformat_minor": 5
}
