{
 "cells": [
  {
   "cell_type": "code",
   "execution_count": null,
   "id": "7866ebce",
   "metadata": {},
   "outputs": [],
   "source": [
    "import gzip\n",
    "import json\n",
    "import pandas as pd\n",
    "import wandb"
   ]
  },
  {
   "cell_type": "code",
   "execution_count": null,
   "id": "5eb02c18",
   "metadata": {},
   "outputs": [],
   "source": [
    "# Initialize wandb run\n",
    "run = wandb.init(\n",
    "    project=\"book-recommendation\", group=\"dev\", job_type=\"eda\", save_code=True\n",
    ")"
   ]
  },
  {
   "cell_type": "code",
   "execution_count": null,
   "id": "727d8dd4",
   "metadata": {},
   "outputs": [],
   "source": [
    "def sample_json_file(filepath: str, sample_size: int = 100_000) -> pd.DataFrame:\n",
    "    \"\"\"Sample a JSON lines file and return a DataFrame.\"\"\"\n",
    "    import random\n",
    "\n",
    "    sampled_lines = []\n",
    "    total_lines = 0\n",
    "\n",
    "    print(f\"Sampling {sample_size} lines from {filepath}...\")\n",
    "\n",
    "    print(\"Estimating total number of lines in the file...\")\n",
    "    with gzip.open(filepath, \"rt\") as f:\n",
    "        for i, _ in enumerate(f):\n",
    "            total_lines += 1\n",
    "            if i > 1_000_000:  # Limit to first million lines for speed\n",
    "                break\n",
    "\n",
    "    # Calculate sampling probability\n",
    "    if total_lines > sample_size:\n",
    "        sample_prob = sample_size / total_lines\n",
    "    else:\n",
    "        sample_prob = 1.0\n",
    "\n",
    "    print(\n",
    "        f\"Total lines estimated: {total_lines}. Sampling probability: {sample_prob:.6f}\"\n",
    "    )\n",
    "\n",
    "    # Collect sampled\n",
    "    with gzip.open(filepath, \"rt\") as f:\n",
    "        for line in f:\n",
    "            try:\n",
    "                if random.random() < sample_prob:\n",
    "                    sampled_lines.append(json.loads(line))\n",
    "                    if len(sampled_lines) >= sample_size:\n",
    "                        break\n",
    "            except json.JSONDecodeError:\n",
    "                continue\n",
    "\n",
    "    print(f\"Sampled {len(sampled_lines)} lines.\")\n",
    "    return pd.DataFrame(sampled_lines)"
   ]
  },
  {
   "cell_type": "code",
   "execution_count": null,
   "id": "1e8cc4f4",
   "metadata": {},
   "outputs": [],
   "source": [
    "interactions_records = sample_json_file(\"../data/goodreads_interactions_dedup.json.gz\")"
   ]
  },
  {
   "cell_type": "code",
   "execution_count": null,
   "id": "599fff8a",
   "metadata": {},
   "outputs": [],
   "source": [
    "interactions_df = pd.DataFrame(interactions_records)"
   ]
  },
  {
   "cell_type": "code",
   "execution_count": null,
   "id": "225a6070",
   "metadata": {},
   "outputs": [],
   "source": [
    "interactions_df.head()"
   ]
  },
  {
   "cell_type": "code",
   "execution_count": null,
   "id": "406c2342",
   "metadata": {},
   "outputs": [],
   "source": [
    "books_records = sample_json_file(\"../data/goodreads_books.json.gz\")"
   ]
  },
  {
   "cell_type": "code",
   "execution_count": null,
   "id": "3e171d5f",
   "metadata": {},
   "outputs": [],
   "source": [
    "books_df = pd.DataFrame(books_records)"
   ]
  },
  {
   "cell_type": "code",
   "execution_count": null,
   "id": "7111942d",
   "metadata": {},
   "outputs": [],
   "source": [
    "books_df.head()"
   ]
  },
  {
   "cell_type": "code",
   "execution_count": null,
   "id": "7f66cbd1",
   "metadata": {},
   "outputs": [],
   "source": [
    "genres_records = sample_json_file(\n",
    "    \"../data/goodreads_book_genres_initial.json.gz\", sample_size=10_000\n",
    ")"
   ]
  },
  {
   "cell_type": "code",
   "execution_count": null,
   "id": "2c9b8cbd",
   "metadata": {},
   "outputs": [],
   "source": [
    "genres_df = pd.DataFrame(genres_records)"
   ]
  },
  {
   "cell_type": "code",
   "execution_count": null,
   "id": "791385fe",
   "metadata": {},
   "outputs": [],
   "source": [
    "genres_df.head()"
   ]
  },
  {
   "cell_type": "code",
   "execution_count": null,
   "id": "e4bc78e5",
   "metadata": {},
   "outputs": [],
   "source": [
    "author_records = sample_json_file(\n",
    "    \"../data/goodreads_book_authors.json.gz\", sample_size=10_000\n",
    ")"
   ]
  },
  {
   "cell_type": "code",
   "execution_count": null,
   "id": "5d12e3e6",
   "metadata": {},
   "outputs": [],
   "source": [
    "authors_df = pd.DataFrame(author_records)"
   ]
  },
  {
   "cell_type": "code",
   "execution_count": null,
   "id": "ce3551fb",
   "metadata": {},
   "outputs": [],
   "source": [
    "authors_df.head()"
   ]
  },
  {
   "cell_type": "code",
   "execution_count": null,
   "id": "9f0bd332",
   "metadata": {},
   "outputs": [],
   "source": [
    "def run_eda_on_sample(\n",
    "    df: pd.DataFrame,\n",
    "    numerical_cols: list[str] | None = None,\n",
    "    categorical_cols: list[str] | None = None,\n",
    ") -> None:\n",
    "    \"\"\"Run comprehensive EDA on a DataFrame.\"\"\"\n",
    "    import plotly.express as px\n",
    "    import plotly.graph_objects as go\n",
    "\n",
    "    print(\"=== EXPLORATORY DATA ANALYSIS ===\")\n",
    "    print(f\"DataFrame shape: {df.shape}\")\n",
    "    print(f\"Columns: {df.columns.tolist()}\")\n",
    "\n",
    "    # Basic information\n",
    "    print(\"\\n--- DataFrame Info ---\")\n",
    "    print(df.info())\n",
    "\n",
    "    # Missing values\n",
    "    print(\"\\n--- Missing Values ---\")\n",
    "    missing = df.isnull().sum()\n",
    "    missing_pct = (missing / len(df)) * 100\n",
    "    missing_df = pd.DataFrame(\n",
    "        {\"Missing Count\": missing, \"Missing Percentage\": missing_pct}\n",
    "    )\n",
    "    print(missing_df[missing_df[\"Missing Count\"] > 0])\n",
    "\n",
    "    # Unique values - handle unhashable types properly\n",
    "    print(\"\\n--- Unique Values ---\")\n",
    "    unique_counts = {}\n",
    "    for col in df.columns:\n",
    "        try:\n",
    "            unique_counts[col] = df[col].nunique()\n",
    "        except TypeError:\n",
    "            # Handle unhashable types by converting to string first\n",
    "            unique_counts[col] = (\n",
    "                df[col]\n",
    "                .apply(lambda x: str(x) if isinstance(x, (list, dict)) else x)\n",
    "                .nunique()\n",
    "            )\n",
    "\n",
    "    print(\"Unique values per column:\")\n",
    "    for col, count in unique_counts.items():\n",
    "        print(f\"{col}: {count}\")\n",
    "\n",
    "    # Descriptive statistics - exclude columns with complex data structures\n",
    "    print(\"\\n--- Descriptive Statistics ---\")\n",
    "    simple_cols = []\n",
    "    for col in df.columns:\n",
    "        # Check if column contains lists or dicts\n",
    "        if not df[col].apply(lambda x: isinstance(x, (list, dict))).any():\n",
    "            simple_cols.append(col)\n",
    "\n",
    "    if simple_cols:\n",
    "        print(df[simple_cols].describe(include=\"all\").T)\n",
    "    else:\n",
    "        print(\"No simple columns found for describe()\")\n",
    "\n",
    "    # Visualizations with Plotly\n",
    "    numeric_cols = (\n",
    "        df.select_dtypes(include=[\"number\"]).columns.to_list()\n",
    "        if numerical_cols is None\n",
    "        else numerical_cols\n",
    "    )\n",
    "    categorical_cols = (\n",
    "        df.select_dtypes(include=[\"object\", \"category\"]).columns.to_list()\n",
    "        if categorical_cols is None\n",
    "        else categorical_cols\n",
    "    )\n",
    "\n",
    "    for col in numeric_cols:\n",
    "        # Ensure the column is truly numeric\n",
    "        plot_data = pd.to_numeric(df[col], errors=\"coerce\").dropna()\n",
    "        if len(plot_data) > 0:\n",
    "            temp_df = pd.DataFrame({col: plot_data})\n",
    "            fig = px.histogram(\n",
    "                temp_df,\n",
    "                x=col,\n",
    "                nbins=20,\n",
    "                title=f\"Distribution of {col}\",\n",
    "                marginal=\"box\",\n",
    "                hover_data=[col],\n",
    "            )\n",
    "            fig.show()\n",
    "\n",
    "            # Log to wandb\n",
    "            run.log({f\"histogram_{col}\": fig})\n",
    "        else:\n",
    "            print(f\"Skipping {col} - no valid numeric data\")\n",
    "\n",
    "    for col in categorical_cols:\n",
    "        # Convert unhashable types to strings and filter out complex objects\n",
    "        clean_data = df[col].apply(\n",
    "            lambda x: str(x) if isinstance(x, (list, dict)) else x\n",
    "        )\n",
    "        clean_data = clean_data[clean_data.notna()]  # Remove NaN values\n",
    "\n",
    "        if len(clean_data) > 0:\n",
    "            top_categories = clean_data.value_counts().head(20)\n",
    "            if len(top_categories) > 0:\n",
    "                fig = px.bar(\n",
    "                    x=top_categories.values,\n",
    "                    y=top_categories.index,\n",
    "                    orientation=\"h\",\n",
    "                    title=f\"Top 20 Categories in {col}\",\n",
    "                    labels={\"x\": \"Count\", \"y\": col},\n",
    "                )\n",
    "                fig.update_layout(height=600)\n",
    "                fig.show()\n",
    "\n",
    "                # Log to wandb\n",
    "                run.log({f\"bar_chart_{col}\": fig})\n",
    "            else:\n",
    "                print(f\"Skipping {col} - no categories to plot\")\n",
    "        else:\n",
    "            print(f\"Skipping {col} - no data to plot\")"
   ]
  },
  {
   "cell_type": "code",
   "execution_count": null,
   "id": "cfc917af",
   "metadata": {},
   "outputs": [],
   "source": [
    "run_eda_on_sample(\n",
    "    interactions_df,\n",
    "    categorical_cols=[\n",
    "        \"is_read\",\n",
    "        \"rating\",\n",
    "    ],\n",
    ")"
   ]
  },
  {
   "cell_type": "code",
   "execution_count": null,
   "id": "ecce44ba",
   "metadata": {},
   "outputs": [],
   "source": [
    "run_eda_on_sample(\n",
    "    books_df,\n",
    "    numerical_cols=[\n",
    "        \"text_reviews_count\",\n",
    "        \"average_rating\",\n",
    "        \"num_pages\",\n",
    "        \"ratings_count\",\n",
    "    ],\n",
    "    categorical_cols=[\n",
    "        \"country_code\",\n",
    "        \"language_code\",\n",
    "        \"is_ebook\",\n",
    "        \"format\",\n",
    "    ],\n",
    ")"
   ]
  },
  {
   "cell_type": "code",
   "execution_count": null,
   "id": "ed445b8c",
   "metadata": {},
   "outputs": [],
   "source": [
    "run_eda_on_sample(genres_df, numerical_cols=[], categorical_cols=[])"
   ]
  },
  {
   "cell_type": "code",
   "execution_count": null,
   "id": "c8ec82a1",
   "metadata": {},
   "outputs": [],
   "source": [
    "run_eda_on_sample(\n",
    "    authors_df,\n",
    "    numerical_cols=[\n",
    "        \"average_rating\",\n",
    "        \"text_reviews_count\",\n",
    "        \"ratings_count\",\n",
    "    ],\n",
    "    categorical_cols=[],\n",
    ")"
   ]
  },
  {
   "cell_type": "code",
   "execution_count": null,
   "id": "f8058de8",
   "metadata": {},
   "outputs": [],
   "source": [
    "run.finish()"
   ]
  }
 ],
 "metadata": {
  "kernelspec": {
   "display_name": ".venv",
   "language": "python",
   "name": "python3"
  },
  "language_info": {
   "codemirror_mode": {
    "name": "ipython",
    "version": 3
   },
   "file_extension": ".py",
   "mimetype": "text/x-python",
   "name": "python",
   "nbconvert_exporter": "python",
   "pygments_lexer": "ipython3",
   "version": "3.12.3"
  }
 },
 "nbformat": 4,
 "nbformat_minor": 5
}
